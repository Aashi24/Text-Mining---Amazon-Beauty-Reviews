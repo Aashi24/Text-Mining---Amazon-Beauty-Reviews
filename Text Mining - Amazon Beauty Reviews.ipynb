{
 "cells": [
  {
   "cell_type": "markdown",
   "metadata": {},
   "source": [
    "![amazon](img/amazon-logo.jpg)\n",
    "\n",
    "## Product Category:\n",
    "# $$Beauty \\ Reviews$$\n"
   ]
  },
  {
   "cell_type": "markdown",
   "metadata": {},
   "source": [
    "---\n",
    "# Dataset\n",
    "\n",
    "![aws-s3](img/amazon_aws-s3.png)\n",
    "\n",
    "<br>\n",
    "UCSanDiego library/repo Curated by Julian McAuley [Source](http://jmcauley.ucsd.edu/data/amazon/)\n",
    "\n",
    "https://s3-us-west-2.amazonaws.com/msds-projects/data/reviews_Beauty_5.json.gz"
   ]
  },
  {
   "cell_type": "code",
   "execution_count": 1,
   "metadata": {},
   "outputs": [],
   "source": [
    "reset -fs"
   ]
  },
  {
   "cell_type": "code",
   "execution_count": 2,
   "metadata": {},
   "outputs": [],
   "source": [
    "import gzip\n",
    "import itertools\n",
    "import string\n",
    "import wordcloud\n",
    "import numpy as np\n",
    "import pandas as pd\n",
    "import datetime as dt\n",
    "import matplotlib.pyplot as plt\n",
    "import pylab as pl\n",
    "\n",
    "from collections import Counter\n",
    "from sklearn import svm\n",
    "from sklearn.pipeline import Pipeline, make_pipeline\n",
    "from sklearn.linear_model import LogisticRegression\n",
    "from sklearn.feature_extraction.text import CountVectorizer, TfidfVectorizer\n",
    "from sklearn.decomposition import NMF, LatentDirichletAllocation\n",
    "from sklearn.naive_bayes import MultinomialNB\n",
    "from sklearn.model_selection import train_test_split, cross_val_score\n",
    "from sklearn.model_selection import GridSearchCV\n",
    "from sklearn.metrics import accuracy_score, confusion_matrix, f1_score\n",
    "\n",
    "from nltk import word_tokenize\n",
    "from nltk.corpus import stopwords\n",
    "from nltk.stem.wordnet import WordNetLemmatizer\n",
    "\n",
    "\n",
    "%matplotlib inline"
   ]
  },
  {
   "cell_type": "code",
   "execution_count": 201,
   "metadata": {},
   "outputs": [],
   "source": [
    "from nltk.tokenize import RegexpTokenizer\n",
    "from nltk.corpus import wordnet\n",
    "from sklearn import metrics\n",
    "\n",
    "from keras.preprocessing import sequence\n",
    "from keras.utils import np_utils\n",
    "from keras.models import Sequential\n",
    "from keras.layers.core import Dense, Dropout, Activation, Lambda\n",
    "from keras.layers.embeddings import Embedding\n",
    "from keras.layers.recurrent import LSTM, SimpleRNN, GRU\n",
    "from keras.preprocessing.text import Tokenizer\n",
    "from collections import defaultdict\n",
    "from keras.layers.convolutional import Convolution1D\n",
    "from keras import backend as K\n",
    "from keras.layers.embeddings import Embedding\n",
    "from keras.callbacks import EarlyStopping\n"
   ]
  },
  {
   "cell_type": "markdown",
   "metadata": {},
   "source": [
    "---\n",
    "# Part I EDA and Preprocessing\n",
    "---\n",
    "### `Download and Unzip Reviews into Pandas DataFrame`"
   ]
  },
  {
   "cell_type": "code",
   "execution_count": 3,
   "metadata": {},
   "outputs": [
    {
     "name": "stdout",
     "output_type": "stream",
     "text": [
      "Data Succesfully Retrieved!\n"
     ]
    }
   ],
   "source": [
    "!python load_data.py"
   ]
  },
  {
   "cell_type": "code",
   "execution_count": 4,
   "metadata": {},
   "outputs": [],
   "source": [
    "# Code provided via http://jmcauley.ucsd.edu/data/amazon/\n",
    "\n",
    "def parse_gz(path):\n",
    "    g = gzip.open(path, 'rb')\n",
    "    for l in g:\n",
    "        yield eval(l)\n",
    "\n",
    "def convert_to_DF(path):\n",
    "    i = 0\n",
    "    df = {}\n",
    "    for d in parse_gz(path):\n",
    "        df[i] = d\n",
    "        i += 1\n",
    "    return pd.DataFrame.from_dict(df, orient='index')"
   ]
  },
  {
   "cell_type": "markdown",
   "metadata": {},
   "source": [
    "* Convert compressed file of data into Pandas DataFrame"
   ]
  },
  {
   "cell_type": "code",
   "execution_count": 51,
   "metadata": {},
   "outputs": [],
   "source": [
    "beauty = convert_to_DF('reviews_Beauty_5.json.gz')"
   ]
  },
  {
   "cell_type": "code",
   "execution_count": 53,
   "metadata": {},
   "outputs": [
    {
     "name": "stdout",
     "output_type": "stream",
     "text": [
      "Dataset size: 198,502 words\n"
     ]
    }
   ],
   "source": [
    "print('Dataset size: {:,} words'.format(len(beauty)))"
   ]
  },
  {
   "cell_type": "code",
   "execution_count": 54,
   "metadata": {},
   "outputs": [
    {
     "data": {
      "text/html": [
       "<div>\n",
       "<style scoped>\n",
       "    .dataframe tbody tr th:only-of-type {\n",
       "        vertical-align: middle;\n",
       "    }\n",
       "\n",
       "    .dataframe tbody tr th {\n",
       "        vertical-align: top;\n",
       "    }\n",
       "\n",
       "    .dataframe thead th {\n",
       "        text-align: right;\n",
       "    }\n",
       "</style>\n",
       "<table border=\"1\" class=\"dataframe\">\n",
       "  <thead>\n",
       "    <tr style=\"text-align: right;\">\n",
       "      <th></th>\n",
       "      <th>reviewerID</th>\n",
       "      <th>asin</th>\n",
       "      <th>reviewerName</th>\n",
       "      <th>helpful</th>\n",
       "      <th>reviewText</th>\n",
       "      <th>overall</th>\n",
       "      <th>summary</th>\n",
       "      <th>unixReviewTime</th>\n",
       "      <th>reviewTime</th>\n",
       "    </tr>\n",
       "  </thead>\n",
       "  <tbody>\n",
       "    <tr>\n",
       "      <th>0</th>\n",
       "      <td>A1YJEY40YUW4SE</td>\n",
       "      <td>7806397051</td>\n",
       "      <td>Andrea</td>\n",
       "      <td>[3, 4]</td>\n",
       "      <td>Very oily and creamy. Not at all what I expect...</td>\n",
       "      <td>1.0</td>\n",
       "      <td>Don't waste your money</td>\n",
       "      <td>1391040000</td>\n",
       "      <td>01 30, 2014</td>\n",
       "    </tr>\n",
       "    <tr>\n",
       "      <th>1</th>\n",
       "      <td>A60XNB876KYML</td>\n",
       "      <td>7806397051</td>\n",
       "      <td>Jessica H.</td>\n",
       "      <td>[1, 1]</td>\n",
       "      <td>This palette was a decent price and I was look...</td>\n",
       "      <td>3.0</td>\n",
       "      <td>OK Palette!</td>\n",
       "      <td>1397779200</td>\n",
       "      <td>04 18, 2014</td>\n",
       "    </tr>\n",
       "    <tr>\n",
       "      <th>2</th>\n",
       "      <td>A3G6XNM240RMWA</td>\n",
       "      <td>7806397051</td>\n",
       "      <td>Karen</td>\n",
       "      <td>[0, 1]</td>\n",
       "      <td>The texture of this concealer pallet is fantas...</td>\n",
       "      <td>4.0</td>\n",
       "      <td>great quality</td>\n",
       "      <td>1378425600</td>\n",
       "      <td>09 6, 2013</td>\n",
       "    </tr>\n",
       "    <tr>\n",
       "      <th>3</th>\n",
       "      <td>A1PQFP6SAJ6D80</td>\n",
       "      <td>7806397051</td>\n",
       "      <td>Norah</td>\n",
       "      <td>[2, 2]</td>\n",
       "      <td>I really can't tell what exactly this thing is...</td>\n",
       "      <td>2.0</td>\n",
       "      <td>Do not work on my face</td>\n",
       "      <td>1386460800</td>\n",
       "      <td>12 8, 2013</td>\n",
       "    </tr>\n",
       "    <tr>\n",
       "      <th>4</th>\n",
       "      <td>A38FVHZTNQ271F</td>\n",
       "      <td>7806397051</td>\n",
       "      <td>Nova Amor</td>\n",
       "      <td>[0, 0]</td>\n",
       "      <td>It was a little smaller than I expected, but t...</td>\n",
       "      <td>3.0</td>\n",
       "      <td>It's okay.</td>\n",
       "      <td>1382140800</td>\n",
       "      <td>10 19, 2013</td>\n",
       "    </tr>\n",
       "  </tbody>\n",
       "</table>\n",
       "</div>"
      ],
      "text/plain": [
       "       reviewerID        asin reviewerName helpful  \\\n",
       "0  A1YJEY40YUW4SE  7806397051       Andrea  [3, 4]   \n",
       "1   A60XNB876KYML  7806397051   Jessica H.  [1, 1]   \n",
       "2  A3G6XNM240RMWA  7806397051        Karen  [0, 1]   \n",
       "3  A1PQFP6SAJ6D80  7806397051        Norah  [2, 2]   \n",
       "4  A38FVHZTNQ271F  7806397051    Nova Amor  [0, 0]   \n",
       "\n",
       "                                          reviewText  overall  \\\n",
       "0  Very oily and creamy. Not at all what I expect...      1.0   \n",
       "1  This palette was a decent price and I was look...      3.0   \n",
       "2  The texture of this concealer pallet is fantas...      4.0   \n",
       "3  I really can't tell what exactly this thing is...      2.0   \n",
       "4  It was a little smaller than I expected, but t...      3.0   \n",
       "\n",
       "                  summary  unixReviewTime   reviewTime  \n",
       "0  Don't waste your money      1391040000  01 30, 2014  \n",
       "1             OK Palette!      1397779200  04 18, 2014  \n",
       "2           great quality      1378425600   09 6, 2013  \n",
       "3  Do not work on my face      1386460800   12 8, 2013  \n",
       "4              It's okay.      1382140800  10 19, 2013  "
      ]
     },
     "execution_count": 54,
     "metadata": {},
     "output_type": "execute_result"
    }
   ],
   "source": [
    "beauty.head()"
   ]
  },
  {
   "cell_type": "markdown",
   "metadata": {},
   "source": [
    "* **Reformat** $\\underline{datetime}$ from raw form."
   ]
  },
  {
   "cell_type": "code",
   "execution_count": 55,
   "metadata": {},
   "outputs": [],
   "source": [
    "beauty[\"reviewTime\"] = pd.to_datetime(beauty[\"reviewTime\"])"
   ]
  },
  {
   "cell_type": "markdown",
   "metadata": {},
   "source": [
    "* **Rearrange** the left-to-right by relevance"
   ]
  },
  {
   "cell_type": "code",
   "execution_count": 56,
   "metadata": {},
   "outputs": [],
   "source": [
    "beauty = beauty[['asin', 'summary', 'reviewText', 'overall', 'reviewerID', 'reviewerName', 'helpful', 'reviewTime',\n",
    "      'unixReviewTime']]"
   ]
  },
  {
   "cell_type": "code",
   "execution_count": 57,
   "metadata": {},
   "outputs": [
    {
     "data": {
      "text/html": [
       "<div>\n",
       "<style scoped>\n",
       "    .dataframe tbody tr th:only-of-type {\n",
       "        vertical-align: middle;\n",
       "    }\n",
       "\n",
       "    .dataframe tbody tr th {\n",
       "        vertical-align: top;\n",
       "    }\n",
       "\n",
       "    .dataframe thead th {\n",
       "        text-align: right;\n",
       "    }\n",
       "</style>\n",
       "<table border=\"1\" class=\"dataframe\">\n",
       "  <thead>\n",
       "    <tr style=\"text-align: right;\">\n",
       "      <th></th>\n",
       "      <th>asin</th>\n",
       "      <th>summary</th>\n",
       "      <th>reviewText</th>\n",
       "      <th>overall</th>\n",
       "      <th>reviewerID</th>\n",
       "      <th>reviewerName</th>\n",
       "      <th>helpful</th>\n",
       "      <th>reviewTime</th>\n",
       "      <th>unixReviewTime</th>\n",
       "    </tr>\n",
       "  </thead>\n",
       "  <tbody>\n",
       "    <tr>\n",
       "      <th>0</th>\n",
       "      <td>7806397051</td>\n",
       "      <td>Don't waste your money</td>\n",
       "      <td>Very oily and creamy. Not at all what I expect...</td>\n",
       "      <td>1.0</td>\n",
       "      <td>A1YJEY40YUW4SE</td>\n",
       "      <td>Andrea</td>\n",
       "      <td>[3, 4]</td>\n",
       "      <td>2014-01-30</td>\n",
       "      <td>1391040000</td>\n",
       "    </tr>\n",
       "    <tr>\n",
       "      <th>1</th>\n",
       "      <td>7806397051</td>\n",
       "      <td>OK Palette!</td>\n",
       "      <td>This palette was a decent price and I was look...</td>\n",
       "      <td>3.0</td>\n",
       "      <td>A60XNB876KYML</td>\n",
       "      <td>Jessica H.</td>\n",
       "      <td>[1, 1]</td>\n",
       "      <td>2014-04-18</td>\n",
       "      <td>1397779200</td>\n",
       "    </tr>\n",
       "    <tr>\n",
       "      <th>2</th>\n",
       "      <td>7806397051</td>\n",
       "      <td>great quality</td>\n",
       "      <td>The texture of this concealer pallet is fantas...</td>\n",
       "      <td>4.0</td>\n",
       "      <td>A3G6XNM240RMWA</td>\n",
       "      <td>Karen</td>\n",
       "      <td>[0, 1]</td>\n",
       "      <td>2013-09-06</td>\n",
       "      <td>1378425600</td>\n",
       "    </tr>\n",
       "  </tbody>\n",
       "</table>\n",
       "</div>"
      ],
      "text/plain": [
       "         asin                 summary  \\\n",
       "0  7806397051  Don't waste your money   \n",
       "1  7806397051             OK Palette!   \n",
       "2  7806397051           great quality   \n",
       "\n",
       "                                          reviewText  overall      reviewerID  \\\n",
       "0  Very oily and creamy. Not at all what I expect...      1.0  A1YJEY40YUW4SE   \n",
       "1  This palette was a decent price and I was look...      3.0   A60XNB876KYML   \n",
       "2  The texture of this concealer pallet is fantas...      4.0  A3G6XNM240RMWA   \n",
       "\n",
       "  reviewerName helpful reviewTime  unixReviewTime  \n",
       "0       Andrea  [3, 4] 2014-01-30      1391040000  \n",
       "1   Jessica H.  [1, 1] 2014-04-18      1397779200  \n",
       "2        Karen  [0, 1] 2013-09-06      1378425600  "
      ]
     },
     "execution_count": 57,
     "metadata": {},
     "output_type": "execute_result"
    }
   ],
   "source": [
    "beauty.head(3)"
   ]
  },
  {
   "cell_type": "code",
   "execution_count": 58,
   "metadata": {},
   "outputs": [
    {
     "data": {
      "text/html": [
       "<div>\n",
       "<style scoped>\n",
       "    .dataframe tbody tr th:only-of-type {\n",
       "        vertical-align: middle;\n",
       "    }\n",
       "\n",
       "    .dataframe tbody tr th {\n",
       "        vertical-align: top;\n",
       "    }\n",
       "\n",
       "    .dataframe thead th {\n",
       "        text-align: right;\n",
       "    }\n",
       "</style>\n",
       "<table border=\"1\" class=\"dataframe\">\n",
       "  <thead>\n",
       "    <tr style=\"text-align: right;\">\n",
       "      <th></th>\n",
       "      <th>asin</th>\n",
       "      <th>summary</th>\n",
       "      <th>reviewText</th>\n",
       "      <th>overall</th>\n",
       "      <th>reviewerID</th>\n",
       "      <th>reviewerName</th>\n",
       "      <th>helpful</th>\n",
       "      <th>reviewTime</th>\n",
       "      <th>unixReviewTime</th>\n",
       "    </tr>\n",
       "  </thead>\n",
       "  <tbody>\n",
       "    <tr>\n",
       "      <th>198499</th>\n",
       "      <td>B00LLPT4HI</td>\n",
       "      <td>One Pound Organic Grade A Unrefined Shea Butter</td>\n",
       "      <td>The skin is the body's largest organ and it ab...</td>\n",
       "      <td>5.0</td>\n",
       "      <td>A35Q0RBM3YNQNF</td>\n",
       "      <td>M. Hill</td>\n",
       "      <td>[0, 0]</td>\n",
       "      <td>2014-07-16</td>\n",
       "      <td>1405468800</td>\n",
       "    </tr>\n",
       "    <tr>\n",
       "      <th>198500</th>\n",
       "      <td>B00LLPT4HI</td>\n",
       "      <td>This stuff is amazing!</td>\n",
       "      <td>I have very dry elbows and knees.  I have a to...</td>\n",
       "      <td>5.0</td>\n",
       "      <td>A3LGT6UZL99IW1</td>\n",
       "      <td>Richard C. Drew \"Anaal Nathra/Uthe vas Bethod...</td>\n",
       "      <td>[0, 0]</td>\n",
       "      <td>2014-07-15</td>\n",
       "      <td>1405382400</td>\n",
       "    </tr>\n",
       "    <tr>\n",
       "      <th>198501</th>\n",
       "      <td>B00LLPT4HI</td>\n",
       "      <td>The \"Real Stuff\"!</td>\n",
       "      <td>This is 100% pure Shea Butter. Do not mistake ...</td>\n",
       "      <td>5.0</td>\n",
       "      <td>A3UJRNI8UR4871</td>\n",
       "      <td>Wulfstan \"wulfstan\"</td>\n",
       "      <td>[0, 1]</td>\n",
       "      <td>2014-07-22</td>\n",
       "      <td>1405987200</td>\n",
       "    </tr>\n",
       "  </tbody>\n",
       "</table>\n",
       "</div>"
      ],
      "text/plain": [
       "              asin                                          summary  \\\n",
       "198499  B00LLPT4HI  One Pound Organic Grade A Unrefined Shea Butter   \n",
       "198500  B00LLPT4HI                           This stuff is amazing!   \n",
       "198501  B00LLPT4HI                                The \"Real Stuff\"!   \n",
       "\n",
       "                                               reviewText  overall  \\\n",
       "198499  The skin is the body's largest organ and it ab...      5.0   \n",
       "198500  I have very dry elbows and knees.  I have a to...      5.0   \n",
       "198501  This is 100% pure Shea Butter. Do not mistake ...      5.0   \n",
       "\n",
       "            reviewerID                                      reviewerName  \\\n",
       "198499  A35Q0RBM3YNQNF                                           M. Hill   \n",
       "198500  A3LGT6UZL99IW1  Richard C. Drew \"Anaal Nathra/Uthe vas Bethod...   \n",
       "198501  A3UJRNI8UR4871                               Wulfstan \"wulfstan\"   \n",
       "\n",
       "       helpful reviewTime  unixReviewTime  \n",
       "198499  [0, 0] 2014-07-16      1405468800  \n",
       "198500  [0, 0] 2014-07-15      1405382400  \n",
       "198501  [0, 1] 2014-07-22      1405987200  "
      ]
     },
     "execution_count": 58,
     "metadata": {},
     "output_type": "execute_result"
    }
   ],
   "source": [
    "beauty.tail(3)"
   ]
  },
  {
   "cell_type": "markdown",
   "metadata": {},
   "source": [
    "---\n",
    "## Number of Reviews by Unique Products [`asin`]"
   ]
  },
  {
   "cell_type": "code",
   "execution_count": 59,
   "metadata": {},
   "outputs": [
    {
     "name": "stdout",
     "output_type": "stream",
     "text": [
      "Number of Unique Products in the Sports & Outdoors Category = 12101\n"
     ]
    }
   ],
   "source": [
    "products = len(beauty['asin'].unique())\n",
    "print(\"Number of Unique Products in the Sports & Outdoors Category = {}\".format(products))"
   ]
  },
  {
   "cell_type": "markdown",
   "metadata": {},
   "source": [
    "**No of Reviews per Product**"
   ]
  },
  {
   "cell_type": "code",
   "execution_count": 60,
   "metadata": {},
   "outputs": [
    {
     "name": "stdout",
     "output_type": "stream",
     "text": [
      "B004OHQR1Q    431\n",
      "B0043OYFKU    403\n",
      "B0069FDR96    391\n",
      "B000ZMBSPE    389\n",
      "B00150LT40    329\n",
      "             ... \n",
      "B009LJ81DY      5\n",
      "B000BIVY1U      5\n",
      "B000P9BR4Y      5\n",
      "B002UBF2YG      5\n",
      "B00GRTQBTM      5\n",
      "Name: asin, Length: 12101, dtype: int64\n"
     ]
    }
   ],
   "source": [
    "print(beauty['asin'].value_counts())\n"
   ]
  },
  {
   "cell_type": "markdown",
   "metadata": {},
   "source": [
    "Most Reviewed Product, B001HBHNHE - has 1024 reviews"
   ]
  },
  {
   "cell_type": "markdown",
   "metadata": {},
   "source": [
    "## $\\underline{Most\\ Reviewed}$ is Olay Advanced System\n",
    "[Amazon Product listing](https://www.amazon.com/dp/B0043OYFKU)\n",
    "\n",
    "![olay](img/olay.jpg)"
   ]
  },
  {
   "cell_type": "markdown",
   "metadata": {},
   "source": [
    "## $\\underline{Least\\ Reviewed}$ is a Long Curly Hair Ends Costume Cosplay Wig (Coffee)\n",
    "[Amazon Product listing](https://www.amazon.com/dp/B00GRTQBTM)\n",
    "\n",
    "![Web Nlyon Knife Sheath](img/wig.jpg)\n",
    "---"
   ]
  },
  {
   "cell_type": "markdown",
   "metadata": {},
   "source": [
    "## $\\underline{Most\\ Common\\ Amount\\ of\\ Reviews} -->$ $5$ Reviews"
   ]
  },
  {
   "cell_type": "markdown",
   "metadata": {},
   "source": [
    "---\n",
    "## Preprocessing:\n",
    "### `Remove punctuations, stopwords, and lemmatize`"
   ]
  },
  {
   "cell_type": "code",
   "execution_count": 61,
   "metadata": {},
   "outputs": [
    {
     "data": {
      "text/plain": [
       "0    Very oily and creamy. Not at all what I expect...\n",
       "1    This palette was a decent price and I was look...\n",
       "2    The texture of this concealer pallet is fantas...\n",
       "3    I really can't tell what exactly this thing is...\n",
       "4    It was a little smaller than I expected, but t...\n",
       "Name: reviewText, dtype: object"
      ]
     },
     "execution_count": 61,
     "metadata": {},
     "output_type": "execute_result"
    }
   ],
   "source": [
    "beauty['reviewText'].head()"
   ]
  },
  {
   "cell_type": "code",
   "execution_count": 62,
   "metadata": {},
   "outputs": [],
   "source": [
    "reviews = beauty['reviewText']"
   ]
  },
  {
   "cell_type": "code",
   "execution_count": 63,
   "metadata": {},
   "outputs": [
    {
     "data": {
      "text/plain": [
       "198502"
      ]
     },
     "execution_count": 63,
     "metadata": {},
     "output_type": "execute_result"
    }
   ],
   "source": [
    "reviews.count()"
   ]
  },
  {
   "cell_type": "code",
   "execution_count": 99,
   "metadata": {},
   "outputs": [],
   "source": [
    "stop_words = stopwords.words('english')"
   ]
  },
  {
   "cell_type": "code",
   "execution_count": 97,
   "metadata": {},
   "outputs": [],
   "source": [
    "wordnet_lemmatizer = WordNetLemmatizer()\n",
    "tokenizer = RegexpTokenizer(r'[a-z]+')\n",
    "\n",
    "def preprocess(document):\n",
    "    document = document.lower() # Convert to lowercase\n",
    "    words = tokenizer.tokenize(document) # Tokenize\n",
    "    words = [w for w in words if not w in stop_words] # Removing stopwords\n",
    "    # Lemmatizing\n",
    "    for pos in [wordnet.NOUN, wordnet.VERB, wordnet.ADJ, wordnet.ADV]:\n",
    "        words = [wordnet_lemmatizer.lemmatize(x, pos) for x in words]\n",
    "    return \" \".join(words)\n"
   ]
  },
  {
   "cell_type": "code",
   "execution_count": 102,
   "metadata": {},
   "outputs": [],
   "source": [
    "beauty['processed_review'] = beauty['reviewText'].apply(preprocess)"
   ]
  },
  {
   "cell_type": "code",
   "execution_count": 103,
   "metadata": {
    "scrolled": true
   },
   "outputs": [
    {
     "data": {
      "text/html": [
       "<div>\n",
       "<style scoped>\n",
       "    .dataframe tbody tr th:only-of-type {\n",
       "        vertical-align: middle;\n",
       "    }\n",
       "\n",
       "    .dataframe tbody tr th {\n",
       "        vertical-align: top;\n",
       "    }\n",
       "\n",
       "    .dataframe thead th {\n",
       "        text-align: right;\n",
       "    }\n",
       "</style>\n",
       "<table border=\"1\" class=\"dataframe\">\n",
       "  <thead>\n",
       "    <tr style=\"text-align: right;\">\n",
       "      <th></th>\n",
       "      <th>asin</th>\n",
       "      <th>summary</th>\n",
       "      <th>reviewText</th>\n",
       "      <th>overall</th>\n",
       "      <th>reviewerID</th>\n",
       "      <th>reviewerName</th>\n",
       "      <th>helpful</th>\n",
       "      <th>reviewTime</th>\n",
       "      <th>unixReviewTime</th>\n",
       "      <th>pos_neg</th>\n",
       "      <th>processed_review</th>\n",
       "    </tr>\n",
       "  </thead>\n",
       "  <tbody>\n",
       "    <tr>\n",
       "      <th>0</th>\n",
       "      <td>7806397051</td>\n",
       "      <td>Don't waste your money</td>\n",
       "      <td>Very oily and creamy. Not at all what I expect...</td>\n",
       "      <td>1.0</td>\n",
       "      <td>A1YJEY40YUW4SE</td>\n",
       "      <td>Andrea</td>\n",
       "      <td>[3, 4]</td>\n",
       "      <td>2014-01-30</td>\n",
       "      <td>1391040000</td>\n",
       "      <td>0</td>\n",
       "      <td>oily creamy expect order try highlight contour...</td>\n",
       "    </tr>\n",
       "    <tr>\n",
       "      <th>1</th>\n",
       "      <td>7806397051</td>\n",
       "      <td>OK Palette!</td>\n",
       "      <td>This palette was a decent price and I was look...</td>\n",
       "      <td>3.0</td>\n",
       "      <td>A60XNB876KYML</td>\n",
       "      <td>Jessica H.</td>\n",
       "      <td>[1, 1]</td>\n",
       "      <td>2014-04-18</td>\n",
       "      <td>1397779200</td>\n",
       "      <td>0</td>\n",
       "      <td>palette decent price look different shade pale...</td>\n",
       "    </tr>\n",
       "    <tr>\n",
       "      <th>2</th>\n",
       "      <td>7806397051</td>\n",
       "      <td>great quality</td>\n",
       "      <td>The texture of this concealer pallet is fantas...</td>\n",
       "      <td>4.0</td>\n",
       "      <td>A3G6XNM240RMWA</td>\n",
       "      <td>Karen</td>\n",
       "      <td>[0, 1]</td>\n",
       "      <td>2013-09-06</td>\n",
       "      <td>1378425600</td>\n",
       "      <td>1</td>\n",
       "      <td>texture concealer pallet fantastic great cover...</td>\n",
       "    </tr>\n",
       "    <tr>\n",
       "      <th>3</th>\n",
       "      <td>7806397051</td>\n",
       "      <td>Do not work on my face</td>\n",
       "      <td>I really can't tell what exactly this thing is...</td>\n",
       "      <td>2.0</td>\n",
       "      <td>A1PQFP6SAJ6D80</td>\n",
       "      <td>Norah</td>\n",
       "      <td>[2, 2]</td>\n",
       "      <td>2013-12-08</td>\n",
       "      <td>1386460800</td>\n",
       "      <td>0</td>\n",
       "      <td>really tell exactly thing powder kind oil ish ...</td>\n",
       "    </tr>\n",
       "    <tr>\n",
       "      <th>4</th>\n",
       "      <td>7806397051</td>\n",
       "      <td>It's okay.</td>\n",
       "      <td>It was a little smaller than I expected, but t...</td>\n",
       "      <td>3.0</td>\n",
       "      <td>A38FVHZTNQ271F</td>\n",
       "      <td>Nova Amor</td>\n",
       "      <td>[0, 0]</td>\n",
       "      <td>2013-10-19</td>\n",
       "      <td>1382140800</td>\n",
       "      <td>0</td>\n",
       "      <td>little small expect okay last long time think ...</td>\n",
       "    </tr>\n",
       "  </tbody>\n",
       "</table>\n",
       "</div>"
      ],
      "text/plain": [
       "         asin                 summary  \\\n",
       "0  7806397051  Don't waste your money   \n",
       "1  7806397051             OK Palette!   \n",
       "2  7806397051           great quality   \n",
       "3  7806397051  Do not work on my face   \n",
       "4  7806397051              It's okay.   \n",
       "\n",
       "                                          reviewText  overall      reviewerID  \\\n",
       "0  Very oily and creamy. Not at all what I expect...      1.0  A1YJEY40YUW4SE   \n",
       "1  This palette was a decent price and I was look...      3.0   A60XNB876KYML   \n",
       "2  The texture of this concealer pallet is fantas...      4.0  A3G6XNM240RMWA   \n",
       "3  I really can't tell what exactly this thing is...      2.0  A1PQFP6SAJ6D80   \n",
       "4  It was a little smaller than I expected, but t...      3.0  A38FVHZTNQ271F   \n",
       "\n",
       "  reviewerName helpful reviewTime  unixReviewTime  pos_neg  \\\n",
       "0       Andrea  [3, 4] 2014-01-30      1391040000        0   \n",
       "1   Jessica H.  [1, 1] 2014-04-18      1397779200        0   \n",
       "2        Karen  [0, 1] 2013-09-06      1378425600        1   \n",
       "3        Norah  [2, 2] 2013-12-08      1386460800        0   \n",
       "4    Nova Amor  [0, 0] 2013-10-19      1382140800        0   \n",
       "\n",
       "                                    processed_review  \n",
       "0  oily creamy expect order try highlight contour...  \n",
       "1  palette decent price look different shade pale...  \n",
       "2  texture concealer pallet fantastic great cover...  \n",
       "3  really tell exactly thing powder kind oil ish ...  \n",
       "4  little small expect okay last long time think ...  "
      ]
     },
     "execution_count": 103,
     "metadata": {},
     "output_type": "execute_result"
    }
   ],
   "source": [
    "beauty.head()"
   ]
  },
  {
   "cell_type": "code",
   "execution_count": 104,
   "metadata": {},
   "outputs": [],
   "source": [
    "cloud = wordcloud.WordCloud(background_color='gray', max_font_size=60, \n",
    "                                relative_scaling=1).generate(' '.join(beauty.processed_review))"
   ]
  },
  {
   "cell_type": "code",
   "execution_count": 105,
   "metadata": {},
   "outputs": [
    {
     "data": {
      "image/png": "[encoded data removed]",
      "text/plain": [
       "<Figure size 1440x720 with 1 Axes>"
      ]
     },
     "metadata": {
      "needs_background": "light"
     },
     "output_type": "display_data"
    }
   ],
   "source": [
    "fig = plt.figure(figsize=(20, 10))\n",
    "plt.axis('off')\n",
    "plt.imshow(cloud)"
   ]
  },
  {
   "cell_type": "code",
   "execution_count": 106,
   "metadata": {},
   "outputs": [
    {
     "data": {
      "text/html": [
       "<div>\n",
       "<style scoped>\n",
       "    .dataframe tbody tr th:only-of-type {\n",
       "        vertical-align: middle;\n",
       "    }\n",
       "\n",
       "    .dataframe tbody tr th {\n",
       "        vertical-align: top;\n",
       "    }\n",
       "\n",
       "    .dataframe thead th {\n",
       "        text-align: right;\n",
       "    }\n",
       "</style>\n",
       "<table border=\"1\" class=\"dataframe\">\n",
       "  <thead>\n",
       "    <tr style=\"text-align: right;\">\n",
       "      <th></th>\n",
       "      <th>asin</th>\n",
       "      <th>summary</th>\n",
       "      <th>reviewText</th>\n",
       "      <th>overall</th>\n",
       "      <th>reviewerID</th>\n",
       "      <th>reviewerName</th>\n",
       "      <th>helpful</th>\n",
       "      <th>reviewTime</th>\n",
       "      <th>unixReviewTime</th>\n",
       "      <th>pos_neg</th>\n",
       "      <th>processed_review</th>\n",
       "    </tr>\n",
       "  </thead>\n",
       "  <tbody>\n",
       "    <tr>\n",
       "      <th>0</th>\n",
       "      <td>7806397051</td>\n",
       "      <td>Don't waste your money</td>\n",
       "      <td>Very oily and creamy. Not at all what I expect...</td>\n",
       "      <td>1.0</td>\n",
       "      <td>A1YJEY40YUW4SE</td>\n",
       "      <td>Andrea</td>\n",
       "      <td>[3, 4]</td>\n",
       "      <td>2014-01-30</td>\n",
       "      <td>1391040000</td>\n",
       "      <td>0</td>\n",
       "      <td>oily creamy expect order try highlight contour...</td>\n",
       "    </tr>\n",
       "    <tr>\n",
       "      <th>1</th>\n",
       "      <td>7806397051</td>\n",
       "      <td>OK Palette!</td>\n",
       "      <td>This palette was a decent price and I was look...</td>\n",
       "      <td>3.0</td>\n",
       "      <td>A60XNB876KYML</td>\n",
       "      <td>Jessica H.</td>\n",
       "      <td>[1, 1]</td>\n",
       "      <td>2014-04-18</td>\n",
       "      <td>1397779200</td>\n",
       "      <td>0</td>\n",
       "      <td>palette decent price look different shade pale...</td>\n",
       "    </tr>\n",
       "    <tr>\n",
       "      <th>2</th>\n",
       "      <td>7806397051</td>\n",
       "      <td>great quality</td>\n",
       "      <td>The texture of this concealer pallet is fantas...</td>\n",
       "      <td>4.0</td>\n",
       "      <td>A3G6XNM240RMWA</td>\n",
       "      <td>Karen</td>\n",
       "      <td>[0, 1]</td>\n",
       "      <td>2013-09-06</td>\n",
       "      <td>1378425600</td>\n",
       "      <td>1</td>\n",
       "      <td>texture concealer pallet fantastic great cover...</td>\n",
       "    </tr>\n",
       "    <tr>\n",
       "      <th>3</th>\n",
       "      <td>7806397051</td>\n",
       "      <td>Do not work on my face</td>\n",
       "      <td>I really can't tell what exactly this thing is...</td>\n",
       "      <td>2.0</td>\n",
       "      <td>A1PQFP6SAJ6D80</td>\n",
       "      <td>Norah</td>\n",
       "      <td>[2, 2]</td>\n",
       "      <td>2013-12-08</td>\n",
       "      <td>1386460800</td>\n",
       "      <td>0</td>\n",
       "      <td>really tell exactly thing powder kind oil ish ...</td>\n",
       "    </tr>\n",
       "    <tr>\n",
       "      <th>4</th>\n",
       "      <td>7806397051</td>\n",
       "      <td>It's okay.</td>\n",
       "      <td>It was a little smaller than I expected, but t...</td>\n",
       "      <td>3.0</td>\n",
       "      <td>A38FVHZTNQ271F</td>\n",
       "      <td>Nova Amor</td>\n",
       "      <td>[0, 0]</td>\n",
       "      <td>2013-10-19</td>\n",
       "      <td>1382140800</td>\n",
       "      <td>0</td>\n",
       "      <td>little small expect okay last long time think ...</td>\n",
       "    </tr>\n",
       "  </tbody>\n",
       "</table>\n",
       "</div>"
      ],
      "text/plain": [
       "         asin                 summary  \\\n",
       "0  7806397051  Don't waste your money   \n",
       "1  7806397051             OK Palette!   \n",
       "2  7806397051           great quality   \n",
       "3  7806397051  Do not work on my face   \n",
       "4  7806397051              It's okay.   \n",
       "\n",
       "                                          reviewText  overall      reviewerID  \\\n",
       "0  Very oily and creamy. Not at all what I expect...      1.0  A1YJEY40YUW4SE   \n",
       "1  This palette was a decent price and I was look...      3.0   A60XNB876KYML   \n",
       "2  The texture of this concealer pallet is fantas...      4.0  A3G6XNM240RMWA   \n",
       "3  I really can't tell what exactly this thing is...      2.0  A1PQFP6SAJ6D80   \n",
       "4  It was a little smaller than I expected, but t...      3.0  A38FVHZTNQ271F   \n",
       "\n",
       "  reviewerName helpful reviewTime  unixReviewTime  pos_neg  \\\n",
       "0       Andrea  [3, 4] 2014-01-30      1391040000        0   \n",
       "1   Jessica H.  [1, 1] 2014-04-18      1397779200        0   \n",
       "2        Karen  [0, 1] 2013-09-06      1378425600        1   \n",
       "3        Norah  [2, 2] 2013-12-08      1386460800        0   \n",
       "4    Nova Amor  [0, 0] 2013-10-19      1382140800        0   \n",
       "\n",
       "                                    processed_review  \n",
       "0  oily creamy expect order try highlight contour...  \n",
       "1  palette decent price look different shade pale...  \n",
       "2  texture concealer pallet fantastic great cover...  \n",
       "3  really tell exactly thing powder kind oil ish ...  \n",
       "4  little small expect okay last long time think ...  "
      ]
     },
     "execution_count": 106,
     "metadata": {},
     "output_type": "execute_result"
    }
   ],
   "source": [
    "beauty.head()"
   ]
  },
  {
   "cell_type": "markdown",
   "metadata": {},
   "source": [
    "### Insert `pos_neg` column for Sentiment modeling\n",
    "\n",
    "         Negative reviews:      1-3 Stars  = 0\n",
    "         Positive reviews:      4-5 Stars  = 1\n",
    "\n",
    "   ![star](img/amazon-stars.png)"
   ]
  },
  {
   "cell_type": "code",
   "execution_count": 109,
   "metadata": {},
   "outputs": [],
   "source": [
    "beauty['pos_neg'] = [1 if x > 3 else 0 for x in beauty.overall]"
   ]
  },
  {
   "cell_type": "code",
   "execution_count": 110,
   "metadata": {
    "scrolled": true
   },
   "outputs": [
    {
     "data": {
      "text/html": [
       "<div>\n",
       "<style scoped>\n",
       "    .dataframe tbody tr th:only-of-type {\n",
       "        vertical-align: middle;\n",
       "    }\n",
       "\n",
       "    .dataframe tbody tr th {\n",
       "        vertical-align: top;\n",
       "    }\n",
       "\n",
       "    .dataframe thead th {\n",
       "        text-align: right;\n",
       "    }\n",
       "</style>\n",
       "<table border=\"1\" class=\"dataframe\">\n",
       "  <thead>\n",
       "    <tr style=\"text-align: right;\">\n",
       "      <th></th>\n",
       "      <th>asin</th>\n",
       "      <th>summary</th>\n",
       "      <th>reviewText</th>\n",
       "      <th>overall</th>\n",
       "      <th>reviewerID</th>\n",
       "      <th>reviewerName</th>\n",
       "      <th>helpful</th>\n",
       "      <th>reviewTime</th>\n",
       "      <th>unixReviewTime</th>\n",
       "      <th>pos_neg</th>\n",
       "      <th>processed_review</th>\n",
       "    </tr>\n",
       "  </thead>\n",
       "  <tbody>\n",
       "    <tr>\n",
       "      <th>0</th>\n",
       "      <td>7806397051</td>\n",
       "      <td>Don't waste your money</td>\n",
       "      <td>Very oily and creamy. Not at all what I expect...</td>\n",
       "      <td>1.0</td>\n",
       "      <td>A1YJEY40YUW4SE</td>\n",
       "      <td>Andrea</td>\n",
       "      <td>[3, 4]</td>\n",
       "      <td>2014-01-30</td>\n",
       "      <td>1391040000</td>\n",
       "      <td>0</td>\n",
       "      <td>oily creamy expect order try highlight contour...</td>\n",
       "    </tr>\n",
       "    <tr>\n",
       "      <th>1</th>\n",
       "      <td>7806397051</td>\n",
       "      <td>OK Palette!</td>\n",
       "      <td>This palette was a decent price and I was look...</td>\n",
       "      <td>3.0</td>\n",
       "      <td>A60XNB876KYML</td>\n",
       "      <td>Jessica H.</td>\n",
       "      <td>[1, 1]</td>\n",
       "      <td>2014-04-18</td>\n",
       "      <td>1397779200</td>\n",
       "      <td>0</td>\n",
       "      <td>palette decent price look different shade pale...</td>\n",
       "    </tr>\n",
       "    <tr>\n",
       "      <th>2</th>\n",
       "      <td>7806397051</td>\n",
       "      <td>great quality</td>\n",
       "      <td>The texture of this concealer pallet is fantas...</td>\n",
       "      <td>4.0</td>\n",
       "      <td>A3G6XNM240RMWA</td>\n",
       "      <td>Karen</td>\n",
       "      <td>[0, 1]</td>\n",
       "      <td>2013-09-06</td>\n",
       "      <td>1378425600</td>\n",
       "      <td>1</td>\n",
       "      <td>texture concealer pallet fantastic great cover...</td>\n",
       "    </tr>\n",
       "  </tbody>\n",
       "</table>\n",
       "</div>"
      ],
      "text/plain": [
       "         asin                 summary  \\\n",
       "0  7806397051  Don't waste your money   \n",
       "1  7806397051             OK Palette!   \n",
       "2  7806397051           great quality   \n",
       "\n",
       "                                          reviewText  overall      reviewerID  \\\n",
       "0  Very oily and creamy. Not at all what I expect...      1.0  A1YJEY40YUW4SE   \n",
       "1  This palette was a decent price and I was look...      3.0   A60XNB876KYML   \n",
       "2  The texture of this concealer pallet is fantas...      4.0  A3G6XNM240RMWA   \n",
       "\n",
       "  reviewerName helpful reviewTime  unixReviewTime  pos_neg  \\\n",
       "0       Andrea  [3, 4] 2014-01-30      1391040000        0   \n",
       "1   Jessica H.  [1, 1] 2014-04-18      1397779200        0   \n",
       "2        Karen  [0, 1] 2013-09-06      1378425600        1   \n",
       "\n",
       "                                    processed_review  \n",
       "0  oily creamy expect order try highlight contour...  \n",
       "1  palette decent price look different shade pale...  \n",
       "2  texture concealer pallet fantastic great cover...  "
      ]
     },
     "execution_count": 110,
     "metadata": {},
     "output_type": "execute_result"
    }
   ],
   "source": [
    "beauty.head(3)"
   ]
  },
  {
   "cell_type": "code",
   "execution_count": 88,
   "metadata": {},
   "outputs": [
    {
     "data": {
      "text/plain": [
       "1    154272\n",
       "0     44230\n",
       "Name: pos_neg, dtype: int64"
      ]
     },
     "execution_count": 88,
     "metadata": {},
     "output_type": "execute_result"
    }
   ],
   "source": [
    "beauty['pos_neg'].value_counts()"
   ]
  },
  {
   "cell_type": "code",
   "execution_count": 113,
   "metadata": {},
   "outputs": [
    {
     "data": {
      "text/html": [
       "<div>\n",
       "<style scoped>\n",
       "    .dataframe tbody tr th:only-of-type {\n",
       "        vertical-align: middle;\n",
       "    }\n",
       "\n",
       "    .dataframe tbody tr th {\n",
       "        vertical-align: top;\n",
       "    }\n",
       "\n",
       "    .dataframe thead tr th {\n",
       "        text-align: left;\n",
       "    }\n",
       "\n",
       "    .dataframe thead tr:last-of-type th {\n",
       "        text-align: right;\n",
       "    }\n",
       "</style>\n",
       "<table border=\"1\" class=\"dataframe\">\n",
       "  <thead>\n",
       "    <tr>\n",
       "      <th></th>\n",
       "      <th colspan=\"4\" halign=\"left\">processed_review</th>\n",
       "    </tr>\n",
       "    <tr>\n",
       "      <th></th>\n",
       "      <th>count</th>\n",
       "      <th>unique</th>\n",
       "      <th>top</th>\n",
       "      <th>freq</th>\n",
       "    </tr>\n",
       "    <tr>\n",
       "      <th>pos_neg</th>\n",
       "      <th></th>\n",
       "      <th></th>\n",
       "      <th></th>\n",
       "      <th></th>\n",
       "    </tr>\n",
       "  </thead>\n",
       "  <tbody>\n",
       "    <tr>\n",
       "      <th>0</th>\n",
       "      <td>44230</td>\n",
       "      <td>44173</td>\n",
       "      <td>work</td>\n",
       "      <td>11</td>\n",
       "    </tr>\n",
       "    <tr>\n",
       "      <th>1</th>\n",
       "      <td>154272</td>\n",
       "      <td>153928</td>\n",
       "      <td>love</td>\n",
       "      <td>34</td>\n",
       "    </tr>\n",
       "  </tbody>\n",
       "</table>\n",
       "</div>"
      ],
      "text/plain": [
       "        processed_review                   \n",
       "                   count  unique   top freq\n",
       "pos_neg                                    \n",
       "0                  44230   44173  work   11\n",
       "1                 154272  153928  love   34"
      ]
     },
     "execution_count": 113,
     "metadata": {},
     "output_type": "execute_result"
    }
   ],
   "source": [
    "beauty2 = beauty[[\"pos_neg\",\"processed_review\"]]\n",
    "beauty2.groupby('pos_neg').describe()"
   ]
  },
  {
   "cell_type": "markdown",
   "metadata": {},
   "source": [
    "---\n",
    "# Part II Modeling\n",
    "---\n",
    "## Model data\n",
    "\n",
    "> **[ 1 ]** CountVectorizer - Multinomial NB\n",
    "\n",
    "> **[ 2 ]** TfidfVectorizer\n",
    "\n",
    "            1. with Logistic Regression\n",
    "            2. with Linear SVM by using SGD\n",
    "            3. Pipeline and GridSearch\n",
    "            \n",
    "> **[ 3 ]** Word2Vec\n",
    "\n",
    "           1. Random Forest\n",
    "           2. Logistic Regression\n",
    "\n",
    "> **[ 4 ]** LSTM\n",
    "\n",
    "            1. Simple LSTM\n",
    "            2. LSTM with Word2Vec\n",
    "            \n",
    "            \n",
    "> **[ 5 ]** Clustering / Topic Modeling (NMF and LDA)  with TF and TFIDF\n",
    "          \n",
    "\n",
    "\n",
    "\n",
    "\n"
   ]
  },
  {
   "cell_type": "markdown",
   "metadata": {},
   "source": [
    "### Train/Test Split"
   ]
  },
  {
   "cell_type": "code",
   "execution_count": null,
   "metadata": {},
   "outputs": [],
   "source": [
    "review_text = beauty[\"processed_review\"]"
   ]
  },
  {
   "cell_type": "code",
   "execution_count": 114,
   "metadata": {},
   "outputs": [],
   "source": [
    "x_train, x_test, y_train, y_test = train_test_split(beauty.processed_review, beauty.pos_neg, random_state=0)"
   ]
  },
  {
   "cell_type": "code",
   "execution_count": 115,
   "metadata": {
    "scrolled": true
   },
   "outputs": [
    {
     "name": "stdout",
     "output_type": "stream",
     "text": [
      "x_train shape: (148876,)\n",
      "y_train shape: (148876,)\n",
      "\n",
      "x_test shape: (49626,)\n",
      "y_test shape: (49626,)\n",
      "\n"
     ]
    }
   ],
   "source": [
    "print(\"x_train shape: {}\".format(x_train.shape), end='\\n')\n",
    "print(\"y_train shape: {}\".format(y_train.shape), end='\\n\\n')\n",
    "print(\"x_test shape: {}\".format(x_test.shape), end='\\n')\n",
    "print(\"y_test shape: {}\".format(y_test.shape), end='\\n\\n')"
   ]
  },
  {
   "cell_type": "code",
   "execution_count": 116,
   "metadata": {
    "scrolled": true
   },
   "outputs": [
    {
     "data": {
      "text/plain": [
       "41325     question rogaine work need start use lose hair...\n",
       "35450     price guess really complain perfume smell stro...\n",
       "112087    polish great really really smelly perfect cove...\n",
       "97533     eh thank love pale pink hue lip treatment saw ...\n",
       "31285                              good healthy strong nail\n",
       "                                ...                        \n",
       "152315    product difficult use attachements hard put tu...\n",
       "176963    skin problem blackhead pimple area need improv...\n",
       "117952    well love wear eyelash throughout day go try y...\n",
       "173685    something really wrong brush build liquid thic...\n",
       "43567     first time use product burn eye eye bloodshot ...\n",
       "Name: processed_review, Length: 148876, dtype: object"
      ]
     },
     "execution_count": 116,
     "metadata": {},
     "output_type": "execute_result"
    }
   ],
   "source": [
    "x_train"
   ]
  },
  {
   "cell_type": "markdown",
   "metadata": {},
   "source": [
    "## `CountVectorizer`"
   ]
  },
  {
   "cell_type": "markdown",
   "metadata": {},
   "source": [
    "## CountVectorizer with Multinomial Naive Bayes (Benchmark Model)\n",
    "\n",
    "Now as we have cleaned all reviews the next step is converting the reviews into numerical representations for a machine learning algorithm.\n",
    "\n",
    "We will use CountVectorizer which implements both tokenization and occurrence counting in a single class provided by the Sklearn library. The output is a sparse matrix representation of the document."
   ]
  },
  {
   "cell_type": "code",
   "execution_count": 117,
   "metadata": {},
   "outputs": [
    {
     "name": "stdout",
     "output_type": "stream",
     "text": [
      "X_train:\n",
      "<148876x13630 sparse matrix of type '<class 'numpy.int64'>'\n",
      "\twith 5015799 stored elements in Compressed Sparse Row format>\n"
     ]
    }
   ],
   "source": [
    "# Vectorize X_train\n",
    "vectorizer = CountVectorizer(min_df=5).fit(x_train)\n",
    "X_train = vectorizer.transform(x_train)\n",
    "print(\"X_train:\\n{}\".format(repr(X_train)))"
   ]
  },
  {
   "cell_type": "code",
   "execution_count": 118,
   "metadata": {},
   "outputs": [
    {
     "name": "stdout",
     "output_type": "stream",
     "text": [
      "Number of features: 13630\n"
     ]
    }
   ],
   "source": [
    "feature_names = vectorizer.get_feature_names()\n",
    "print(\"Number of features: {}\".format(len(feature_names)))"
   ]
  },
  {
   "cell_type": "code",
   "execution_count": 120,
   "metadata": {
    "scrolled": false
   },
   "outputs": [
    {
     "name": "stdout",
     "output_type": "stream",
     "text": [
      "Show some feature names : \n",
      " ['aa', 'bbw', 'choke', 'definately', 'estimation', 'glittery', 'infestation', 'lpmp', 'nix', 'plaque', 'repetitive', 'slippage', 'terra', 'vetiver']\n"
     ]
    }
   ],
   "source": [
    "print(\"Show some feature names : \\n\", vectorizer.get_feature_names()[::1000])"
   ]
  },
  {
   "cell_type": "code",
   "execution_count": 138,
   "metadata": {},
   "outputs": [],
   "source": [
    "scores = cross_val_score(MultinomialNB(), X_train, y_train, cv=5)"
   ]
  },
  {
   "cell_type": "code",
   "execution_count": 139,
   "metadata": {},
   "outputs": [
    {
     "name": "stdout",
     "output_type": "stream",
     "text": [
      "Mean cross-validation accuracy: 0.830\n"
     ]
    }
   ],
   "source": [
    "print(\"Mean cross-validation accuracy: {:.3f}\".format(np.mean(scores)))"
   ]
  },
  {
   "cell_type": "code",
   "execution_count": null,
   "metadata": {},
   "outputs": [],
   "source": [
    "# Train MultinomialNB classifier\n",
    "mnb = MultinomialNB()\n",
    "mnb.fit(X_train, y_train)"
   ]
  },
  {
   "cell_type": "code",
   "execution_count": 141,
   "metadata": {},
   "outputs": [],
   "source": [
    "X_test = vectorizer.transform(x_test)"
   ]
  },
  {
   "cell_type": "code",
   "execution_count": 140,
   "metadata": {},
   "outputs": [],
   "source": [
    "def modelEvaluation(predictions):\n",
    "    '''\n",
    "    Print model evaluation to predicted result \n",
    "    '''\n",
    "    print (\"\\nAccuracy on validation set: {:.4f}\".format(accuracy_score(y_test, predictions)))\n",
    "    #print(\"\\nAUC score : {:.4f}\".format(roc_auc_score(y_test, predictions)))\n",
    "    print(\"\\nClassification report : \\n\", metrics.classification_report(y_test, predictions))\n",
    "    print(\"\\nConfusion Matrix : \\n\", metrics.confusion_matrix(y_test, predictions))"
   ]
  },
  {
   "cell_type": "code",
   "execution_count": 145,
   "metadata": {
    "scrolled": true
   },
   "outputs": [
    {
     "name": "stdout",
     "output_type": "stream",
     "text": [
      "\n",
      "Accuracy on validation set: 0.8344\n",
      "\n",
      "Classification report : \n",
      "               precision    recall  f1-score   support\n",
      "\n",
      "           0       0.64      0.59      0.61     11112\n",
      "           1       0.88      0.91      0.89     38514\n",
      "\n",
      "    accuracy                           0.83     49626\n",
      "   macro avg       0.76      0.75      0.75     49626\n",
      "weighted avg       0.83      0.83      0.83     49626\n",
      "\n",
      "\n",
      "Confusion Matrix : \n",
      " [[ 6513  4599]\n",
      " [ 3617 34897]]\n"
     ]
    }
   ],
   "source": [
    "# Evaluate the model on validaton set\n",
    "predictions = mnb.predict(X_test)\n",
    "modelEvaluation(predictions)"
   ]
  },
  {
   "cell_type": "code",
   "execution_count": 149,
   "metadata": {
    "scrolled": true
   },
   "outputs": [
    {
     "data": {
      "image/png": "[encoded data removed]",
      "text/plain": [
       "<Figure size 432x288 with 2 Axes>"
      ]
     },
     "metadata": {
      "needs_background": "light"
     },
     "output_type": "display_data"
    }
   ],
   "source": [
    "mnb_cfm = confusion_matrix(y_test, predictions)\n",
    "plt.imshow(log_cfm, interpolation='nearest')\n",
    "\n",
    "for i, j in itertools.product(range(mnb_cfm.shape[0]), range(mnb_cfm.shape[1])):\n",
    "    plt.text(j, i, mnb_cfm[i, j],\n",
    "             horizontalalignment=\"center\",\n",
    "             color=\"white\")\n",
    "\n",
    "plt.ylabel('True label (Recall)')\n",
    "plt.xlabel('Predicted label (Precision)')\n",
    "plt.title('Multinomial Naive Bayes | Confusion Matrix')\n",
    "plt.colorbar();"
   ]
  },
  {
   "cell_type": "markdown",
   "metadata": {},
   "source": [
    "## TfidfVectorizer with Logistic Regression\n",
    "\n",
    "Some words might appear quite frequently but have a very less or negligible meaningful information about the sentiment for a particular review. Instead of using occurance counting we will use tf-idf transform to scale down the impact of frequently appearing words in a given corpus.\n",
    "\n",
    "In sklearn library we will use TfidfVectorizer which implements both tokenization and tf-idf weighted counting in a single class."
   ]
  },
  {
   "cell_type": "code",
   "execution_count": 150,
   "metadata": {},
   "outputs": [
    {
     "name": "stdout",
     "output_type": "stream",
     "text": [
      "Number of features : 13630 \n",
      "\n",
      "Show some feature names : \n",
      " ['aa', 'bbw', 'choke', 'definately', 'estimation', 'glittery', 'infestation', 'lpmp', 'nix', 'plaque', 'repetitive', 'slippage', 'terra', 'vetiver']\n"
     ]
    },
    {
     "name": "stderr",
     "output_type": "stream",
     "text": [
      "D:\\Software\\envs\\myenv\\lib\\site-packages\\sklearn\\linear_model\\_logistic.py:762: ConvergenceWarning: lbfgs failed to converge (status=1):\n",
      "STOP: TOTAL NO. of ITERATIONS REACHED LIMIT.\n",
      "\n",
      "Increase the number of iterations (max_iter) or scale the data as shown in:\n",
      "    https://scikit-learn.org/stable/modules/preprocessing.html\n",
      "Please also refer to the documentation for alternative solver options:\n",
      "    https://scikit-learn.org/stable/modules/linear_model.html#logistic-regression\n",
      "  n_iter_i = _check_optimize_result(\n"
     ]
    },
    {
     "data": {
      "text/plain": [
       "LogisticRegression()"
      ]
     },
     "execution_count": 150,
     "metadata": {},
     "output_type": "execute_result"
    }
   ],
   "source": [
    "# Fitting and transforming the training data to a document-term matrix using TfidfVectorizer \n",
    "tfidf = TfidfVectorizer(min_df=5) #minimum document frequency of 5\n",
    "X_train_tfidf = tfidf.fit_transform(x_train)\n",
    "print(\"Number of features : %d \\n\" %len(tfidf.get_feature_names())) #1722\n",
    "print(\"Show some feature names : \\n\", tfidf.get_feature_names()[::1000])\n",
    "\n",
    "# Logistic Regression\n",
    "lr = LogisticRegression()\n",
    "lr.fit(X_train_tfidf, y_train)"
   ]
  },
  {
   "cell_type": "code",
   "execution_count": 151,
   "metadata": {},
   "outputs": [
    {
     "name": "stdout",
     "output_type": "stream",
     "text": [
      "\n",
      "Top 10 features with the smallest coefficients :\n",
      "['unfortunately' 'disappoint' 'waste' 'ok' 'return' 'maybe' 'okay'\n",
      " 'disappointment' 'hop' 'useless']\n",
      "\n",
      "Top 10 features with the largest coefficients : \n",
      "['love' 'great' 'highly' 'amaze' 'perfect' 'excellent' 'awesome'\n",
      " 'skeptical' 'compliment' 'happy']\n"
     ]
    }
   ],
   "source": [
    "# Have a look at the top 10 features with the smallest and largest coefficients\n",
    "feature_names = np.array(tfidf.get_feature_names())\n",
    "sorted_coef_index = lr.coef_[0].argsort()\n",
    "print('\\nTop 10 features with the smallest coefficients :\\n{}\\n'.format(feature_names[sorted_coef_index[:10]]))\n",
    "print('Top 10 features with the largest coefficients : \\n{}'.format(feature_names[sorted_coef_index[:-11:-1]]))"
   ]
  },
  {
   "cell_type": "code",
   "execution_count": 152,
   "metadata": {
    "scrolled": true
   },
   "outputs": [
    {
     "name": "stdout",
     "output_type": "stream",
     "text": [
      "\n",
      "Accuracy on validation set: 0.8572\n",
      "\n",
      "Classification report : \n",
      "               precision    recall  f1-score   support\n",
      "\n",
      "           0       0.76      0.53      0.63     11112\n",
      "           1       0.88      0.95      0.91     38514\n",
      "\n",
      "    accuracy                           0.86     49626\n",
      "   macro avg       0.82      0.74      0.77     49626\n",
      "weighted avg       0.85      0.86      0.85     49626\n",
      "\n",
      "\n",
      "Confusion Matrix : \n",
      " [[ 5935  5177]\n",
      " [ 1912 36602]]\n"
     ]
    }
   ],
   "source": [
    "# Evaluating on the validaton set\n",
    "predictions = lr.predict(tfidf.transform(x_test))\n",
    "modelEvaluation(predictions)"
   ]
  },
  {
   "cell_type": "code",
   "execution_count": 154,
   "metadata": {},
   "outputs": [
    {
     "data": {
      "image/png": "[encoded data removed]",
      "text/plain": [
       "<Figure size 432x288 with 2 Axes>"
      ]
     },
     "metadata": {
      "needs_background": "light"
     },
     "output_type": "display_data"
    }
   ],
   "source": [
    "cfm = confusion_matrix(y_test, predictions)\n",
    "plt.imshow(log_cfm, interpolation='nearest')\n",
    "\n",
    "for i, j in itertools.product(range(cfm.shape[0]), range(cfm.shape[1])):\n",
    "    plt.text(j, i, cfm[i, j],\n",
    "             horizontalalignment=\"center\",\n",
    "             color=\"white\")\n",
    "\n",
    "plt.ylabel('True label (Recall)')\n",
    "plt.xlabel('Predicted label (Precision)')\n",
    "plt.title('Logistic Regression with TFIDF | Confusion Matrix')\n",
    "plt.colorbar();"
   ]
  },
  {
   "cell_type": "markdown",
   "metadata": {},
   "source": [
    "## TfidfVectorizer using Linear SVM by using SGD"
   ]
  },
  {
   "cell_type": "code",
   "execution_count": 155,
   "metadata": {},
   "outputs": [
    {
     "data": {
      "text/plain": [
       "SGDClassifier()"
      ]
     },
     "execution_count": 155,
     "metadata": {},
     "output_type": "execute_result"
    }
   ],
   "source": [
    "# Fitting and transforming the training data to a document-term matrix using TfidfVectorizer \n",
    "tfidf = TfidfVectorizer(min_df=5) #minimum document frequency of 5\n",
    "X_train_tfidf = tfidf.fit_transform(x_train)\n",
    "\n",
    "# SVM\n",
    "from sklearn.linear_model import SGDClassifier\n",
    "clf = SGDClassifier(loss=\"hinge\", penalty=\"l2\")\n",
    "clf.fit(X_train_tfidf, y_train)"
   ]
  },
  {
   "cell_type": "code",
   "execution_count": 156,
   "metadata": {},
   "outputs": [
    {
     "name": "stdout",
     "output_type": "stream",
     "text": [
      "\n",
      "Top 10 features with the smallest coefficients :\n",
      "['ok' 'unfortunately' 'okay' 'waste' 'disappoint' 'maybe' 'return' 'hop'\n",
      " 'bad' 'nothing']\n",
      "\n",
      "Top 10 features with the largest coefficients : \n",
      "['love' 'great' 'amaze' 'perfect' 'happy' 'without' 'best' 'year'\n",
      " 'definitely' 'highly']\n"
     ]
    }
   ],
   "source": [
    "# Have a look at the top 10 features with the smallest and largest coefficients\n",
    "feature_names = np.array(tfidf.get_feature_names())\n",
    "sorted_coef_index = clf.coef_[0].argsort()\n",
    "print('\\nTop 10 features with the smallest coefficients :\\n{}\\n'.format(feature_names[sorted_coef_index[:10]]))\n",
    "print('Top 10 features with the largest coefficients : \\n{}'.format(feature_names[sorted_coef_index[:-11:-1]]))"
   ]
  },
  {
   "cell_type": "code",
   "execution_count": 158,
   "metadata": {},
   "outputs": [
    {
     "name": "stdout",
     "output_type": "stream",
     "text": [
      "\n",
      "Accuracy on validation set: 0.8393\n",
      "\n",
      "Classification report : \n",
      "               precision    recall  f1-score   support\n",
      "\n",
      "           0       0.83      0.35      0.50     11112\n",
      "           1       0.84      0.98      0.90     38514\n",
      "\n",
      "    accuracy                           0.84     49626\n",
      "   macro avg       0.84      0.67      0.70     49626\n",
      "weighted avg       0.84      0.84      0.81     49626\n",
      "\n",
      "\n",
      "Confusion Matrix : \n",
      " [[ 3917  7195]\n",
      " [  781 37733]]\n"
     ]
    }
   ],
   "source": [
    "# Evaluating on the validaton set\n",
    "predictions = clf.predict(tfidf.transform(x_test))\n",
    "modelEvaluation(predictions)"
   ]
  },
  {
   "cell_type": "markdown",
   "metadata": {},
   "source": [
    "## Pipeline and GridSearch\n",
    "\n",
    "We will build a pipeline in the Sklearn library to streamline the workflow and use GridSearch on the pipeline model to implement hyperparameter tuning for both the vectorizer and classifier at once"
   ]
  },
  {
   "cell_type": "code",
   "execution_count": 159,
   "metadata": {
    "scrolled": true
   },
   "outputs": [
    {
     "name": "stderr",
     "output_type": "stream",
     "text": [
      "D:\\Software\\envs\\myenv\\lib\\site-packages\\sklearn\\linear_model\\_logistic.py:762: ConvergenceWarning: lbfgs failed to converge (status=1):\n",
      "STOP: TOTAL NO. of ITERATIONS REACHED LIMIT.\n",
      "\n",
      "Increase the number of iterations (max_iter) or scale the data as shown in:\n",
      "    https://scikit-learn.org/stable/modules/preprocessing.html\n",
      "Please also refer to the documentation for alternative solver options:\n",
      "    https://scikit-learn.org/stable/modules/linear_model.html#logistic-regression\n",
      "  n_iter_i = _check_optimize_result(\n"
     ]
    },
    {
     "name": "stdout",
     "output_type": "stream",
     "text": [
      "The best paramenter set is : \n",
      " {'lr__C': 10, 'tfidf__max_features': None, 'tfidf__min_df': 1, 'tfidf__ngram_range': (1, 2), 'tfidf__stop_words': None}\n",
      "\n",
      "Accuracy on validation set: 0.8734\n",
      "\n",
      "Classification report : \n",
      "               precision    recall  f1-score   support\n",
      "\n",
      "           0       0.77      0.62      0.69     11112\n",
      "           1       0.90      0.95      0.92     38514\n",
      "\n",
      "    accuracy                           0.87     49626\n",
      "   macro avg       0.83      0.78      0.80     49626\n",
      "weighted avg       0.87      0.87      0.87     49626\n",
      "\n",
      "\n",
      "Confusion Matrix : \n",
      " [[ 6861  4251]\n",
      " [ 2034 36480]]\n"
     ]
    }
   ],
   "source": [
    "# Building a pipeline\n",
    "estimators = [(\"tfidf\", TfidfVectorizer()), (\"lr\", LogisticRegression())]\n",
    "model = Pipeline(estimators)\n",
    "\n",
    "\n",
    "# Grid search\n",
    "params = {\"lr__C\":[0.1, 1, 10], #regularization param of logistic regression\n",
    "          \"tfidf__min_df\": [1, 3], #min count of words \n",
    "          \"tfidf__max_features\": [1000, None], #max features\n",
    "          \"tfidf__ngram_range\": [(1,1), (1,2)], #1-grams or 2-grams\n",
    "          \"tfidf__stop_words\": [None, \"english\"]} #use stopwords or don't\n",
    "\n",
    "grid = GridSearchCV(estimator=model, param_grid=params, scoring=\"accuracy\", n_jobs=-1)\n",
    "grid.fit(x_train, y_train)\n",
    "print(\"The best paramenter set is : \\n\", grid.best_params_)\n",
    "\n",
    "\n",
    "# Evaluate on the validaton set\n",
    "predictions = grid.predict(x_test)\n",
    "modelEvaluation(predictions)"
   ]
  },
  {
   "cell_type": "code",
   "execution_count": 160,
   "metadata": {},
   "outputs": [
    {
     "data": {
      "image/png": "[encoded data removed]",
      "text/plain": [
       "<Figure size 432x288 with 2 Axes>"
      ]
     },
     "metadata": {
      "needs_background": "light"
     },
     "output_type": "display_data"
    }
   ],
   "source": [
    "cfm = confusion_matrix(y_test, predictions)\n",
    "plt.imshow(log_cfm, interpolation='nearest')\n",
    "\n",
    "for i, j in itertools.product(range(cfm.shape[0]), range(cfm.shape[1])):\n",
    "    plt.text(j, i, cfm[i, j],\n",
    "             horizontalalignment=\"center\",\n",
    "             color=\"white\")\n",
    "\n",
    "plt.ylabel('True label (Recall)')\n",
    "plt.xlabel('Predicted label (Precision)')\n",
    "plt.title('Logistic Regression with TFIDF | Confusion Matrix')\n",
    "plt.colorbar();"
   ]
  },
  {
   "cell_type": "markdown",
   "metadata": {},
   "source": [
    "## Word2Vec\n",
    "\n",
    "Another common approach of word embedding is the prediction based embedding like Word2Vec model. Briefly, Word2Vec is a combination of two techniques: Continuous Bag of Words (CBoW) and Skip-Gram model. Both are Shallow Neural Networks which learn weights for the word vector representations.\n",
    "\n",
    "Here, we will train Word2Vec model to create our own word vector representation using gensim library. Then we will fit the feature vectors of the reviews to the Random Forest Classifier. Here's the workflow of this part: -\n",
    "\n",
    "Parse review text to sentences (Word2Vec model takes a list of sentences as inputs).\n",
    "Create vocabulary list using Word2Vec model.\n",
    "Transform each review into numerical representation by computing average feature vectors of words therein\n",
    "Fit the average feature vectors to Random Forest Classifier\n",
    "Parsing Review into Sentences\n",
    "\n",
    "Word2Vec model takes a list of sentences as inputs and outputs word vector representations for words in the vocabulary list created. Before we train the Word2Vec model, we have to parse reviews in the training set into sentences."
   ]
  },
  {
   "cell_type": "code",
   "execution_count": 161,
   "metadata": {
    "scrolled": true
   },
   "outputs": [
    {
     "name": "stderr",
     "output_type": "stream",
     "text": [
      "[nltk_data] Downloading package punkt to\n",
      "[nltk_data]     C:\\Users\\aashi\\AppData\\Roaming\\nltk_data...\n",
      "[nltk_data]   Package punkt is already up-to-date!\n"
     ]
    },
    {
     "data": {
      "text/plain": [
       "True"
      ]
     },
     "execution_count": 161,
     "metadata": {},
     "output_type": "execute_result"
    }
   ],
   "source": [
    "import nltk\n",
    "nltk.download('punkt')"
   ]
  },
  {
   "cell_type": "code",
   "execution_count": 182,
   "metadata": {},
   "outputs": [],
   "source": [
    "from bs4 import BeautifulSoup \n",
    "import re\n",
    "def cleanText(raw_text, remove_stopwords=False, stemming=False, split_text=False, \\\n",
    "             ):\n",
    "    '''\n",
    "    Convert a raw review to a cleaned review\n",
    "    '''\n",
    "    text = BeautifulSoup(raw_text, 'lxml').get_text()  #remove html\n",
    "    letters_only = re.sub(\"[^a-zA-Z]\", \" \", text)  # remove non-character\n",
    "    words = letters_only.lower().split() # convert to lower case \n",
    "    \n",
    "    if remove_stopwords: # remove stopword\n",
    "        stops = set(stopwords.words(\"english\"))\n",
    "        words = [w for w in words if not w in stops]\n",
    "        \n",
    "    if stemming==True: # stemming\n",
    "#         stemmer = PorterStemmer()\n",
    "        stemmer = SnowballStemmer('english') \n",
    "        words = [stemmer.stem(w) for w in words]\n",
    "        \n",
    "    if split_text==True:  # split text\n",
    "        return (words)\n",
    "    \n",
    "    return( \" \".join(words))"
   ]
  },
  {
   "cell_type": "code",
   "execution_count": 183,
   "metadata": {},
   "outputs": [
    {
     "name": "stdout",
     "output_type": "stream",
     "text": [
      "148851 parsed sentence in the training set\n",
      "\n",
      "Show a parsed sentence in the training set : \n",
      " ['make', 'makeup', 'go', 'smooth', 'seem', 'tame', 'line', 'bite', 'crazy', 'smell', 'though', 'smell', 'kind', 'toxic']\n"
     ]
    }
   ],
   "source": [
    "# Splitting review text into parsed sentences using NLTK's punkt tokenizer\n",
    "\n",
    "tokenizer = nltk.data.load('tokenizers/punkt/english.pickle')\n",
    "\n",
    "def parseSent(review, tokenizer, remove_stopwords=False):\n",
    "    '''\n",
    "    Parse text into sentences\n",
    "    '''\n",
    "    raw_sentences = tokenizer.tokenize(review.strip())\n",
    "    sentences = []\n",
    "    for raw_sentence in raw_sentences:\n",
    "        if len(raw_sentence) > 0:\n",
    "            sentences.append(cleanText(raw_sentence, remove_stopwords, split_text=True))\n",
    "    return sentences\n",
    "\n",
    "\n",
    "# Parsing each review in the training set into sentences\n",
    "sentences = []\n",
    "for review in x_train:\n",
    "    sentences += parseSent(review, tokenizer)\n",
    "    \n",
    "print('%d parsed sentence in the training set\\n'  %len(sentences))\n",
    "print('Show a parsed sentence in the training set : \\n',  sentences[10])\n"
   ]
  },
  {
   "cell_type": "code",
   "execution_count": 164,
   "metadata": {},
   "outputs": [],
   "source": [
    "from gensim.models import Word2Vec\n",
    "w2v = Word2Vec()\n"
   ]
  },
  {
   "cell_type": "markdown",
   "metadata": {},
   "source": [
    "Creating Vocabulary List using Word2Vec Model\n",
    "\n",
    "As we have a set of cleaned and parsed sentences from the training data, we will train our own word vector representations by specifying the embedding dimension (= length of feature vector)."
   ]
  },
  {
   "cell_type": "code",
   "execution_count": 170,
   "metadata": {},
   "outputs": [
    {
     "data": {
      "text/plain": [
       "41325     question rogaine work need start use lose hair...\n",
       "35450     price guess really complain perfume smell stro...\n",
       "112087    polish great really really smelly perfect cove...\n",
       "97533     eh thank love pale pink hue lip treatment saw ...\n",
       "31285                              good healthy strong nail\n",
       "                                ...                        \n",
       "152315    product difficult use attachements hard put tu...\n",
       "176963    skin problem blackhead pimple area need improv...\n",
       "117952    well love wear eyelash throughout day go try y...\n",
       "173685    something really wrong brush build liquid thic...\n",
       "43567     first time use product burn eye eye bloodshot ...\n",
       "Name: processed_review, Length: 148876, dtype: object"
      ]
     },
     "execution_count": 170,
     "metadata": {},
     "output_type": "execute_result"
    }
   ],
   "source": [
    "x_train"
   ]
  },
  {
   "cell_type": "code",
   "execution_count": 185,
   "metadata": {},
   "outputs": [
    {
     "name": "stdout",
     "output_type": "stream",
     "text": [
      "Training Word2Vec model ...\n",
      "\n",
      "Number of words in the vocabulary list : 14323 \n",
      "\n",
      "Show first 10 words in the vocabulary list  vocabulary list: \n",
      " ['use', 'hair', 'product', 'like', 'skin', 'get', 'good', 'look', 'one', 'make']\n"
     ]
    }
   ],
   "source": [
    "# Fitting parsed sentences to Word2Vec model \n",
    "\n",
    "num_features = 100  #embedding dimension                     \n",
    "min_word_count = 5                \n",
    "num_workers = 4       \n",
    "context = 5                                                                                          \n",
    "downsampling = 1e-3 \n",
    "\n",
    "print(\"Training Word2Vec model ...\\n\")\n",
    "w2v = Word2Vec(sentences, workers=num_workers, size=num_features, min_count = min_word_count,\n",
    "                window = context)\n",
    "w2v.init_sims(replace=True)\n",
    "w2v.save(\"w2v_300features_10minwordcounts_10context\") #save trained word2vec model\n",
    "\n",
    "print(\"Number of words in the vocabulary list : %d \\n\" %len(w2v.wv.index2word)) #4016 \n",
    "print(\"Show first 10 words in the vocabulary list  vocabulary list: \\n\", w2v.wv.index2word[0:10])"
   ]
  },
  {
   "cell_type": "markdown",
   "metadata": {},
   "source": [
    "### Averaging Feature Vectors\n",
    "\n",
    "Now we have created a vocabulary list of words with each word having a word representation(ie. feature vector of dim 300).\n",
    "\n",
    "To find a numerical representation for a review, we run through each word in a review text. For words appear in the vocabulary list, we compute the average feature vectors of all those words. The average feature vector is the numerical represenation of the review."
   ]
  },
  {
   "cell_type": "code",
   "execution_count": 187,
   "metadata": {},
   "outputs": [],
   "source": [
    "# Transfroming the training data into feature vectors\n",
    "\n",
    "def makeFeatureVec(review, model, num_features):\n",
    "    '''\n",
    "    Transform a review to a feature vector by averaging feature vectors of words \n",
    "    appeared in that review and in the vocabulary list created\n",
    "    '''\n",
    "    featureVec = np.zeros((num_features,),dtype=\"float32\")\n",
    "    nwords = 0.\n",
    "    index2word_set = set(model.wv.index2word) #index2word is the vocabulary list of the Word2Vec model\n",
    "    isZeroVec = True\n",
    "    for word in review:\n",
    "        if word in index2word_set: \n",
    "            nwords = nwords + 1.\n",
    "            featureVec = np.add(featureVec, model[word])\n",
    "            isZeroVec = False\n",
    "    if isZeroVec == False:\n",
    "        featureVec = np.divide(featureVec, nwords)\n",
    "    return featureVec\n",
    "\n",
    "\n",
    "def getAvgFeatureVecs(reviews, model, num_features):\n",
    "    '''\n",
    "    Transform all reviews to feature vectors using makeFeatureVec()\n",
    "    '''\n",
    "    counter = 0\n",
    "    reviewFeatureVecs = np.zeros((len(reviews),num_features),dtype=\"float32\")\n",
    "    for review in reviews:\n",
    "        reviewFeatureVecs[counter] = makeFeatureVec(review, model,num_features)\n",
    "        counter = counter + 1\n",
    "    return reviewFeatureVecs"
   ]
  },
  {
   "cell_type": "code",
   "execution_count": 188,
   "metadata": {},
   "outputs": [
    {
     "name": "stderr",
     "output_type": "stream",
     "text": [
      "<ipython-input-187-46b6f43eb48b>:15: DeprecationWarning: Call to deprecated `__getitem__` (Method will be removed in 4.0.0, use self.wv.__getitem__() instead).\n",
      "  featureVec = np.add(featureVec, model[word])\n"
     ]
    }
   ],
   "source": [
    "trainVector = getAvgFeatureVecs(x_train, w2v, num_features)"
   ]
  },
  {
   "cell_type": "code",
   "execution_count": 189,
   "metadata": {},
   "outputs": [
    {
     "name": "stdout",
     "output_type": "stream",
     "text": [
      "Training set : 148876 feature vectors with 100 dimensions\n"
     ]
    }
   ],
   "source": [
    "print(\"Training set : %d feature vectors with %d dimensions\" %trainVector.shape)"
   ]
  },
  {
   "cell_type": "code",
   "execution_count": 190,
   "metadata": {},
   "outputs": [
    {
     "name": "stderr",
     "output_type": "stream",
     "text": [
      "<ipython-input-187-46b6f43eb48b>:15: DeprecationWarning: Call to deprecated `__getitem__` (Method will be removed in 4.0.0, use self.wv.__getitem__() instead).\n",
      "  featureVec = np.add(featureVec, model[word])\n"
     ]
    },
    {
     "name": "stdout",
     "output_type": "stream",
     "text": [
      "Validation set : 49626 feature vectors with 100 dimensions\n"
     ]
    }
   ],
   "source": [
    "testVector = getAvgFeatureVecs(x_test, w2v, num_features)\n",
    "print(\"Validation set : %d feature vectors with %d dimensions\" %testVector.shape)"
   ]
  },
  {
   "cell_type": "code",
   "execution_count": 192,
   "metadata": {},
   "outputs": [
    {
     "name": "stdout",
     "output_type": "stream",
     "text": [
      "\n",
      "Accuracy on validation set: 0.7757\n",
      "\n",
      "Classification report : \n",
      "               precision    recall  f1-score   support\n",
      "\n",
      "           0       0.48      0.02      0.04     11112\n",
      "           1       0.78      0.99      0.87     38514\n",
      "\n",
      "    accuracy                           0.78     49626\n",
      "   macro avg       0.63      0.51      0.46     49626\n",
      "weighted avg       0.71      0.78      0.69     49626\n",
      "\n",
      "\n",
      "Confusion Matrix : \n",
      " [[  235 10877]\n",
      " [  252 38262]]\n"
     ]
    }
   ],
   "source": [
    "# Random Forest Classifier\n",
    "from sklearn.ensemble import RandomForestClassifier\n",
    "rf = RandomForestClassifier(n_estimators=100)\n",
    "rf.fit(trainVector, y_train)\n",
    "predictions = rf.predict(testVector)\n",
    "modelEvaluation(predictions)"
   ]
  },
  {
   "cell_type": "code",
   "execution_count": 246,
   "metadata": {},
   "outputs": [
    {
     "name": "stdout",
     "output_type": "stream",
     "text": [
      "\n",
      "Accuracy on validation set: 0.7763\n",
      "\n",
      "Classification report : \n",
      "               precision    recall  f1-score   support\n",
      "\n",
      "           0       0.62      0.00      0.01     11112\n",
      "           1       0.78      1.00      0.87     38514\n",
      "\n",
      "    accuracy                           0.78     49626\n",
      "   macro avg       0.70      0.50      0.44     49626\n",
      "weighted avg       0.74      0.78      0.68     49626\n",
      "\n",
      "\n",
      "Confusion Matrix : \n",
      " [[   31 11081]\n",
      " [   19 38495]]\n"
     ]
    }
   ],
   "source": [
    "lr = LogisticRegression()\n",
    "lr.fit(trainVector, y_train)\n",
    "predictions = lr.predict(testVector)\n",
    "modelEvaluation(predictions)"
   ]
  },
  {
   "cell_type": "markdown",
   "metadata": {},
   "source": [
    "\n",
    "## Applying LSTM\n",
    "\n",
    "Long Short Term Memory(LSTM) Networks are a special kind of the Recurrent Neural Networks(RNN) capable of learning long-term dependencies. LSTM can be very useful in text mining problems as it involves dependencies in the sentences which can be caught in the \"memory\" of the LSTM. Here, we will train a simple LSTM and LSTM with Word2Vec embedding for classifying the reviews into positive and negative sentiments using Keras library.\n",
    "\n",
    "## Simple LSTM\n",
    "\n",
    "We need to preprocess the text data to 2D tensor before we begin fitting it into a simple LSTM. Firstly we will tokenize the corpus by considering only top words (top_words = 20000) and transforming reviews to numerical sequences using the trained tokenizer. Lastly we will make it sure that all the numerical sequences have the same length (maxlen=100) for modelling by truncating the long reviews and padding shorter reviews having zero values.\n",
    "\n",
    "For constructing a simple LSTM, we will use embedding class in Keras to building up the first layer. This embedding layer converts numerical sequence of words into a word embedding. We should also note that the embedding class provides a convenient way to map discrete words into a continuous vector space but it doesn't take the semantic similarity of the words into account. The next layer is the LSTM layer with 128 memory units. Finally, we will use a dense output layer with a single neuron and a sigmoid activation function to make 0 or 1 prediction for the two classes (positive sentiment and negative sentiment). As it is a binary classification problem log loss is used as the loss function(binary_crossentropy in Keras). ADAM optimization algorithm will be used.\n",
    "\n",
    "Here's the workflow in this part: -\n",
    "\n",
    "Prepare X_train and X_test to 2D tensor.\n",
    "Train a simple LSTM (embedding layer => LSTM layer => dense layer).\n",
    "Compile and fit the model using log loss function and ADAM optimizer"
   ]
  },
  {
   "cell_type": "code",
   "execution_count": 205,
   "metadata": {},
   "outputs": [],
   "source": [
    "top_words = 20000 \n",
    "maxlen = 100 \n",
    "batch_size = 32\n",
    "nb_classes = 3\n",
    "nb_epoch = 3\n",
    "\n",
    "\n",
    "# Vectorize X_train and X_test to 2D tensor\n",
    "tokenizer = Tokenizer(nb_words=top_words) #Considering only top 20000 words in the corpus\n",
    "\n",
    "\n"
   ]
  },
  {
   "cell_type": "code",
   "execution_count": 209,
   "metadata": {},
   "outputs": [],
   "source": [
    "tokenizer.fit_on_texts(x_train)\n",
    "# tokenizer.word_index #access word-to-index dictionary of trained tokenizer\n",
    "\n",
    "\n",
    "sequences_train = tokenizer.texts_to_sequences(x_train)\n",
    "sequences_test = tokenizer.texts_to_sequences(x_test)\n",
    "\n",
    "# One-Hot Encoding of y_train and y_test\n",
    "y_train_seq = np_utils.to_categorical(y_train, nb_classes)\n",
    "y_test_seq = np_utils.to_categorical(y_test, nb_classes)\n",
    "\n",
    "X_train_seq = sequence.pad_sequences(sequences_train, maxlen=maxlen)\n",
    "X_test_seq = sequence.pad_sequences(sequences_test, maxlen=maxlen)\n",
    "\n"
   ]
  },
  {
   "cell_type": "code",
   "execution_count": 212,
   "metadata": {
    "scrolled": true
   },
   "outputs": [
    {
     "name": "stdout",
     "output_type": "stream",
     "text": [
      "X_train shape: (148876, 100)\n",
      "X_test shape: (49626, 100)\n",
      "y_train shape: (148876,)\n",
      "y_test shape: (49626,)\n"
     ]
    }
   ],
   "source": [
    "print('X_train shape:', X_train_seq.shape)\n",
    "print('X_test shape:', X_test_seq.shape) \n",
    "print('y_train shape:', y_train_seq.shape) \n",
    "print('y_test shape:', y_test_seq.shape) "
   ]
  },
  {
   "cell_type": "code",
   "execution_count": 219,
   "metadata": {},
   "outputs": [
    {
     "data": {
      "text/plain": [
       "array([[   0,    0,    0, ...,  794,   43, 3437],\n",
       "       [   0,    0,    0, ...,  258,   28, 3742],\n",
       "       [   0,    0,    0, ...,  449,   73,    3],\n",
       "       ...,\n",
       "       [   0,    0,    0, ...,  319,  117,   23],\n",
       "       [   0,    0,    0, ...,  567,  235,  442],\n",
       "       [   0,    0,    0, ...,  174, 1301,  314]])"
      ]
     },
     "execution_count": 219,
     "metadata": {},
     "output_type": "execute_result"
    }
   ],
   "source": [
    "X_train_seq"
   ]
  },
  {
   "cell_type": "code",
   "execution_count": 247,
   "metadata": {},
   "outputs": [
    {
     "name": "stdout",
     "output_type": "stream",
     "text": [
      "Model: \"sequential_10\"\n",
      "_________________________________________________________________\n",
      "Layer (type)                 Output Shape              Param #   \n",
      "=================================================================\n",
      "embedding_8 (Embedding)      (None, None, 128)         1833344   \n",
      "_________________________________________________________________\n",
      "lstm_7 (LSTM)                (None, 128)               131584    \n",
      "_________________________________________________________________\n",
      "dropout_5 (Dropout)          (None, 128)               0         \n",
      "_________________________________________________________________\n",
      "dense_7 (Dense)              (None, 3)                 387       \n",
      "_________________________________________________________________\n",
      "activation_7 (Activation)    (None, 3)                 0         \n",
      "=================================================================\n",
      "Total params: 1,965,315\n",
      "Trainable params: 1,965,315\n",
      "Non-trainable params: 0\n",
      "_________________________________________________________________\n",
      "Epoch 1/3\n",
      "4653/4653 [==============================] - 664s 143ms/step - loss: 0.2359 - accuracy: 0.8462\n",
      "Epoch 2/3\n",
      "4653/4653 [==============================] - 684s 147ms/step - loss: 0.1959 - accuracy: 0.8749\n",
      "Epoch 3/3\n",
      "4653/4653 [==============================] - 651s 140ms/step - loss: 0.1743 - accuracy: 0.8891\n",
      "1551/1551 [==============================] - 60s 39ms/step - loss: 0.2206 - accuracy: 0.8623\n",
      "Test loss : 0.2206\n",
      "Test accuracy : 0.8623\n"
     ]
    }
   ],
   "source": [
    "# Constructing a Simple LSTM\n",
    "model1 = Sequential()\n",
    "model1.add(Embedding(top_words, 128))\n",
    "model1.add(LSTM(128)) \n",
    "model1.add(Dropout(0.2))\n",
    "model1.add(Dense(nb_classes))\n",
    "model1.add(Activation('softmax'))\n",
    "model1.summary()\n",
    "\n",
    "# Compiling LSTM\n",
    "model1.compile(loss='binary_crossentropy',\n",
    "              optimizer='adam',\n",
    "              metrics=['accuracy'])\n",
    "\n",
    "model1.fit(X_train_seq, y_train_seq, batch_size=batch_size, epochs=nb_epoch, verbose=1)\n",
    "\n",
    "# Model Evaluation\n",
    "score = model1.evaluate(X_test_seq, y_test_seq, batch_size=batch_size)\n",
    "print('Test loss : {:.4f}'.format(score[0]))\n",
    "print('Test accuracy : {:.4f}'.format(score[1]))"
   ]
  },
  {
   "cell_type": "markdown",
   "metadata": {},
   "source": [
    "## LSTM with Word2Vec Embedding\n",
    "\n",
    "In the simple LSTM model constructed above, the embedding class in Keras comes in handy for converting the numerical sequence of words into a word embedding but it doesn't take the semantic similarity of the words into account. The model assigns random weights to the embedding layer and learn the embeddings by minimizing the global error of the network.\n",
    "\n",
    "Instead of using random weights we will use pretrained word embeddings for initializing the weight of an embedding layer. Here, we will use the Word2Vec embedding trained in Part 4 for intializing the weights of embedding layer in LSTM.\n",
    "\n",
    "Load pretrained word embedding model.\n",
    "Construct embedding layer using embedding matrix as weights.\n",
    "Train a LSTM with Word2Vec embedding (embedding layer => LSTM layer => dense layer).\n",
    "Compile and fit the model using log loss function and ADAM optimizer."
   ]
  },
  {
   "cell_type": "code",
   "execution_count": 221,
   "metadata": {},
   "outputs": [
    {
     "name": "stdout",
     "output_type": "stream",
     "text": [
      "Shape of embedding matrix :  (14323, 100)\n"
     ]
    },
    {
     "name": "stderr",
     "output_type": "stream",
     "text": [
      "<ipython-input-221-24182a96004a>:5: DeprecationWarning: Call to deprecated `syn0` (Attribute will be removed in 4.0.0, use self.vectors instead).\n",
      "  embedding_matrix = w2v.wv.syn0  # embedding matrix, type = numpy.ndarray\n"
     ]
    }
   ],
   "source": [
    "w2v = Word2Vec.load(\"w2v_300features_10minwordcounts_10context\")\n",
    "\n",
    "\n",
    "# Getting Word2Vec embedding matrix\n",
    "embedding_matrix = w2v.wv.syn0  # embedding matrix, type = numpy.ndarray \n",
    "print(\"Shape of embedding matrix : \", embedding_matrix.shape) #(4016, 300) = (vocabulary size, embedding dimension)\n",
    "# w2v.wv.syn0[0] #feature vector of the first word in the vocabulary list"
   ]
  },
  {
   "cell_type": "code",
   "execution_count": 222,
   "metadata": {},
   "outputs": [
    {
     "name": "stderr",
     "output_type": "stream",
     "text": [
      "D:\\Software\\envs\\myenv\\lib\\site-packages\\keras_preprocessing\\text.py:178: UserWarning: The `nb_words` argument in `Tokenizer` has been renamed `num_words`.\n",
      "  warnings.warn('The `nb_words` argument in `Tokenizer` '\n"
     ]
    },
    {
     "name": "stdout",
     "output_type": "stream",
     "text": [
      "X_train shape: (148876, 100)\n",
      "X_test shape: (49626, 100)\n",
      "y_train shape: (148876, 3)\n",
      "y_test shape: (49626, 3)\n"
     ]
    }
   ],
   "source": [
    "top_words = embedding_matrix.shape[0]\n",
    "maxlen = 100 \n",
    "batch_size = 32\n",
    "nb_classes = 3\n",
    "nb_epoch = 3\n",
    "\n",
    "\n",
    "# Vectorizing X_train and X_test to 2D tensor\n",
    "tokenizer = Tokenizer(nb_words=top_words) #Considering only top 20000 words in the corpus\n",
    "tokenizer.fit_on_texts(x_train)\n",
    "# tokenizer.word_index #access word-to-index dictionary of trained tokenizer\n",
    "\n",
    "sequences_train = tokenizer.texts_to_sequences(x_train)\n",
    "sequences_test = tokenizer.texts_to_sequences(x_test)\n",
    "\n",
    "X_train_seq = sequence.pad_sequences(sequences_train, maxlen=maxlen)\n",
    "X_test_seq = sequence.pad_sequences(sequences_test, maxlen=maxlen)\n",
    "\n",
    "\n",
    "# One-Hot Encoding of y_train and y_test\n",
    "y_train_seq = np_utils.to_categorical(y_train, nb_classes)\n",
    "y_test_seq = np_utils.to_categorical(y_test, nb_classes)\n",
    "\n",
    "print('X_train shape:', X_train_seq.shape) \n",
    "print('X_test shape:', X_test_seq.shape) \n",
    "print('y_train shape:', y_train_seq.shape)\n",
    "print('y_test shape:', y_test_seq.shape) "
   ]
  },
  {
   "cell_type": "code",
   "execution_count": 224,
   "metadata": {},
   "outputs": [
    {
     "name": "stdout",
     "output_type": "stream",
     "text": [
      "Model: \"sequential_7\"\n",
      "_________________________________________________________________\n",
      "Layer (type)                 Output Shape              Param #   \n",
      "=================================================================\n",
      "embedding_5 (Embedding)      (None, None, 100)         1432300   \n",
      "_________________________________________________________________\n",
      "lstm_4 (LSTM)                (None, 128)               117248    \n",
      "_________________________________________________________________\n",
      "dense_4 (Dense)              (None, 3)                 387       \n",
      "_________________________________________________________________\n",
      "activation_4 (Activation)    (None, 3)                 0         \n",
      "=================================================================\n",
      "Total params: 1,549,935\n",
      "Trainable params: 1,549,935\n",
      "Non-trainable params: 0\n",
      "_________________________________________________________________\n",
      "Epoch 1/3\n",
      "4653/4653 [==============================] - 556s 120ms/step - loss: 0.2353 - accuracy: 0.8455\n",
      "Epoch 2/3\n",
      "4653/4653 [==============================] - 560s 120ms/step - loss: 0.1933 - accuracy: 0.8766\n",
      "Epoch 3/3\n",
      "4653/4653 [==============================] - 563s 121ms/step - loss: 0.1690 - accuracy: 0.8930\n",
      "1551/1551 [==============================] - 59s 38ms/step - loss: 0.2203 - accuracy: 0.8613\n",
      "Test loss : 0.2203\n",
      "Test accuracy : 0.8613\n"
     ]
    }
   ],
   "source": [
    "# Constructing Word2Vec embedding layer\n",
    "embedding_layer = Embedding(embedding_matrix.shape[0], #4016\n",
    "                            embedding_matrix.shape[1], #300\n",
    "                            weights=[embedding_matrix])\n",
    "\n",
    "\n",
    "# Constructing LSTM with Word2Vec embedding\n",
    "model2 = Sequential()\n",
    "model2.add(embedding_layer)\n",
    "model2.add(LSTM(128)) \n",
    "model2.add(Dense(nb_classes))\n",
    "model2.add(Activation('softmax'))\n",
    "model2.summary()\n",
    "\n",
    "# Compiling model\n",
    "model2.compile(loss='binary_crossentropy',\n",
    "              optimizer='adam',\n",
    "              metrics=['accuracy'])\n",
    "\n",
    "model2.fit(X_train_seq, y_train_seq, batch_size=batch_size, epochs=nb_epoch, verbose=1)\n",
    "\n",
    "\n",
    "# Model evaluation\n",
    "score = model2.evaluate(X_test_seq, y_test_seq, batch_size=batch_size)\n",
    "print('Test loss : {:.4f}'.format(score[0]))\n",
    "print('Test accuracy : {:.4f}'.format(score[1]))"
   ]
  },
  {
   "cell_type": "markdown",
   "metadata": {},
   "source": [
    "### Summary:\n",
    "\n",
    "* Pipleline and GridSearch CV with Logistic Regression has the highest accuarcy of 87% and works best for classifying product   sentiments\n",
    "\n",
    "* LSTM with Word2Vec is the second best with 86% Accuracy\n",
    "\n",
    "* Take aways - Word embedding with TFIDF work best for our use case"
   ]
  },
  {
   "cell_type": "markdown",
   "metadata": {},
   "source": [
    "---\n",
    "\n",
    "# Clustering / Topic Modeling (NMF and LDA)"
   ]
  },
  {
   "cell_type": "markdown",
   "metadata": {},
   "source": [
    "---\n",
    "## Clustering Vectorize:\n",
    "### `CountVectorizer` & `Tf-idf`\n"
   ]
  },
  {
   "cell_type": "markdown",
   "metadata": {},
   "source": [
    "* With NLTK stopwords "
   ]
  },
  {
   "cell_type": "code",
   "execution_count": 227,
   "metadata": {},
   "outputs": [],
   "source": [
    "# Use tf-idf features\n",
    "tfidf_vectorizer = TfidfVectorizer(stop_words=stops)\n",
    "tfidf = tfidf_vectorizer.fit_transform(review_text)\n",
    "\n",
    "# Use tf features\n",
    "tf_vectorizer = CountVectorizer(stop_words=stops)\n",
    "tf = tf_vectorizer.fit_transform(review_text)"
   ]
  },
  {
   "cell_type": "code",
   "execution_count": 228,
   "metadata": {},
   "outputs": [
    {
     "name": "stdout",
     "output_type": "stream",
     "text": [
      "Number of total features: 77874\n"
     ]
    }
   ],
   "source": [
    "tfidf_feature_names = tfidf_vectorizer.get_feature_names()\n",
    "print(\"Number of total features: {}\".format(len(tfidf_feature_names)))"
   ]
  },
  {
   "cell_type": "markdown",
   "metadata": {},
   "source": [
    "---\n",
    "## Build Clustering Models:\n",
    "## `Nonnegative Matrix Factorization (NMF)` \n",
    "### & \n",
    "## `Latent Dirichlet Allocation (Lda)`"
   ]
  },
  {
   "cell_type": "code",
   "execution_count": 231,
   "metadata": {},
   "outputs": [],
   "source": [
    "# Initialize NMF\n",
    "nmf = NMF(n_components=10, random_state=1,\n",
    "          alpha=.1, l1_ratio=.5)\n",
    "\n",
    "# Initialize Ida\n",
    "lda = LatentDirichletAllocation(n_components=10, max_iter=5,\n",
    "                                learning_method='online',\n",
    "                                learning_offset=50.,\n",
    "                                random_state=0)"
   ]
  },
  {
   "cell_type": "code",
   "execution_count": 232,
   "metadata": {},
   "outputs": [],
   "source": [
    "num_top_words = 15\n",
    "\n",
    "def retrieve_top_words(model, feature_names, num_top_words):\n",
    "    for idx, topic in enumerate(model.components_):\n",
    "        print(\"Topic #{}:\".format(idx), end='\\n')\n",
    "        print(\" \".join([feature_names[i]\n",
    "                        for i in topic.argsort()[:-num_top_words - 1:-1]]), end='\\n\\n')\n",
    "    print()"
   ]
  },
  {
   "cell_type": "markdown",
   "metadata": {},
   "source": [
    "## `Term frequency` [ tf ]\n",
    "\n",
    "## NMF"
   ]
  },
  {
   "cell_type": "code",
   "execution_count": 233,
   "metadata": {},
   "outputs": [
    {
     "name": "stderr",
     "output_type": "stream",
     "text": [
      "D:\\Software\\envs\\myenv\\lib\\site-packages\\sklearn\\decomposition\\_nmf.py:1076: ConvergenceWarning: Maximum number of iterations 200 reached. Increase it to improve convergence.\n",
      "  warnings.warn(\"Maximum number of iterations %d reached. Increase it to\"\n"
     ]
    }
   ],
   "source": [
    "nmf_tf = nmf.fit(tf)"
   ]
  },
  {
   "cell_type": "code",
   "execution_count": 234,
   "metadata": {
    "scrolled": true
   },
   "outputs": [
    {
     "data": {
      "text/plain": [
       "Counter({8: 39131,\n",
       "         2: 18734,\n",
       "         6: 4898,\n",
       "         1: 32365,\n",
       "         3: 21487,\n",
       "         4: 23146,\n",
       "         7: 7988,\n",
       "         0: 25972,\n",
       "         5: 15660,\n",
       "         9: 9121})"
      ]
     },
     "execution_count": 234,
     "metadata": {},
     "output_type": "execute_result"
    }
   ],
   "source": [
    "nmf_ = nmf_tf.transform(tf)\n",
    "Counter([np.argmax(i) for i in nmf_])"
   ]
  },
  {
   "cell_type": "code",
   "execution_count": null,
   "metadata": {},
   "outputs": [],
   "source": [
    "tfidf_feature_names"
   ]
  },
  {
   "cell_type": "code",
   "execution_count": 235,
   "metadata": {},
   "outputs": [
    {
     "name": "stdout",
     "output_type": "stream",
     "text": [
      "Topic #0:\n",
      "hair dry iron long thick used dryer conditioner color curly flat heat time blow ends\n",
      "\n",
      "Topic #1:\n",
      "skin face dry using cream sensitive moisturizer acne products oily feel also lotion used serum\n",
      "\n",
      "Topic #2:\n",
      "use face using every day wash easy also need get week time night make works\n",
      "\n",
      "Topic #3:\n",
      "product products using would used great recommend results good review bottle however say try price\n",
      "\n",
      "Topic #4:\n",
      "like really smell feel scent smells nice look good color lotion feels would little body\n",
      "\n",
      "Topic #5:\n",
      "nail color polish nails gel coat top light apply gelish colors time led uv dry\n",
      "\n",
      "Topic #6:\n",
      "oil argan bottle oils also natural ingredients used organic coconut pure water vitamin dry drops\n",
      "\n",
      "Topic #7:\n",
      "shampoo conditioner products scalp scent using hair good well clean smell shampoos used bottle great\n",
      "\n",
      "Topic #8:\n",
      "one get would really good well time used much great little even love long also\n",
      "\n",
      "Topic #9:\n",
      "brush brushes great bristles foundation love makeup soft set powder well apply quality price good\n",
      "\n",
      "\n"
     ]
    }
   ],
   "source": [
    "retrieve_top_words(nmf_tf, tfidf_feature_names, num_top_words)"
   ]
  },
  {
   "cell_type": "markdown",
   "metadata": {},
   "source": [
    "### NMF / tf Topics\n",
    "\n",
    "\n",
    "\n",
    "Topic #0: **[ Hair Styling ]**\n",
    "\n",
    "hair dry iron long thick used dryer conditioner color curly flat heat time blow ends\n",
    "\n",
    "Topic #1: **[ Skin Care ]**\n",
    "\n",
    "skin face dry using cream sensitive moisturizer acne products oily feel also lotion used serum\n",
    "\n",
    "Topic #2: **[ Face wash ]**\n",
    "\n",
    "use face using every day wash easy also need get week time night make works\n",
    "\n",
    "Topic #3: **[ Positive Review ]**\n",
    "\n",
    "product products using would used great recommend results good review bottle however say try price\n",
    "\n",
    "Topic #4: **[ Scented Lotion ]**\n",
    "\n",
    "like really smell feel scent smells nice look good color lotion feels would little body\n",
    "\n",
    "Topic #5: **[ Nail Polish ]**\n",
    "\n",
    "nail color polish nails gel coat top light apply gelish colors time led uv dry\n",
    "\n",
    "Topic #6: **[Oil ]**\n",
    "\n",
    "oil argan bottle oils also natural ingredients used organic coconut pure water vitamin dry drops\n",
    "\n",
    "Topic #7: **[Shampoo ]**\n",
    "\n",
    "shampoo conditioner products scalp scent using hair good well clean smell shampoos used bottle great\n",
    "\n",
    "Topic #8: **[ Positive Review ]**\n",
    "\n",
    "one get would really good well time used much great little even love long also\n",
    "\n",
    "Topic #9: **[Brush ]**\n",
    "\n",
    "brush brushes great bristles foundation love makeup soft set powder well apply quality price good\n",
    "\n"
   ]
  },
  {
   "cell_type": "markdown",
   "metadata": {},
   "source": [
    "## Lda"
   ]
  },
  {
   "cell_type": "code",
   "execution_count": 237,
   "metadata": {},
   "outputs": [],
   "source": [
    "lda_tf = lda.fit(tf)"
   ]
  },
  {
   "cell_type": "code",
   "execution_count": 238,
   "metadata": {},
   "outputs": [
    {
     "data": {
      "text/plain": [
       "Counter({4: 129242,\n",
       "         0: 25639,\n",
       "         6: 19085,\n",
       "         9: 16499,\n",
       "         1: 521,\n",
       "         3: 2630,\n",
       "         5: 1265,\n",
       "         2: 3120,\n",
       "         8: 208,\n",
       "         7: 293})"
      ]
     },
     "execution_count": 238,
     "metadata": {},
     "output_type": "execute_result"
    }
   ],
   "source": [
    "lda_ = lda_tf.transform(tf)\n",
    "Counter([np.argmax(i) for i in lda_])"
   ]
  },
  {
   "cell_type": "code",
   "execution_count": 239,
   "metadata": {},
   "outputs": [
    {
     "name": "stdout",
     "output_type": "stream",
     "text": [
      "Topic #0:\n",
      "color like colors love look really great looks dark one light would pretty nice pink\n",
      "\n",
      "Topic #1:\n",
      "nail nails polish coat polishes gelish wen manicure split balm cuticles cellulite acrylic opi purse\n",
      "\n",
      "Topic #2:\n",
      "brush mascara lashes use get mirror easy one bag razor apply remove make top eyeliner\n",
      "\n",
      "Topic #3:\n",
      "makeup eyes eye foundation love powder set bb wear look make like primer coverage circles\n",
      "\n",
      "Topic #4:\n",
      "product skin use like using face really used good one products would well dry feel\n",
      "\n",
      "Topic #5:\n",
      "oil scent vitamin argan natural ingredients smell oils bottle organic butter water body fragrance shea\n",
      "\n",
      "Topic #6:\n",
      "hair use dry conditioner product like iron long thick flat fine soft used heat get\n",
      "\n",
      "Topic #7:\n",
      "skin sensitive sunscreen 8217 sun acid spf moisturizer dead sea free ingredients peel hyaluronic aging\n",
      "\n",
      "Topic #8:\n",
      "shampoo conditioner soap wash clean shower scalp body suave shampoos axe husband men dandruff conditioners\n",
      "\n",
      "Topic #9:\n",
      "great price good brushes one quality well love would buy size really nice get recommend\n",
      "\n",
      "\n"
     ]
    }
   ],
   "source": [
    "retrieve_top_words(lda_tf, tfidf_feature_names, num_top_words)"
   ]
  },
  {
   "cell_type": "markdown",
   "metadata": {},
   "source": [
    "### Lda / tf Topics\n",
    " \n",
    "Topic #0: **[ Color ]**\n",
    "\n",
    "color like colors love look really great looks dark one light would pretty nice pink\n",
    "\n",
    "Topic #1: **[ Nail Polish ]**\n",
    "\n",
    "nail nails polish coat polishes gelish wen manicure split balm cuticles cellulite acrylic opi purse\n",
    "\n",
    "Topic #2: **[ Eye makeup ]**\n",
    "\n",
    "brush mascara lashes use get mirror easy one bag razor apply remove make top eyeliner\n",
    "\n",
    "Topic #3: **[ Eye makeup ]**\n",
    "\n",
    "makeup eyes eye foundation love powder set bb wear look make like primer coverage circles\n",
    "\n",
    "Topic #4: **[ Skin care ]**\n",
    "\n",
    "product skin use like using face really used good one products would well dry feel\n",
    "\n",
    "Topic #5: **[ Oil ]**\n",
    "\n",
    "oil scent vitamin argan natural ingredients smell oils bottle organic butter water body fragrance shea\n",
    "\n",
    "Topic #6: **[ Hair Styling/ Care]**\n",
    "\n",
    "hair use dry conditioner product like iron long thick flat fine soft used heat get\n",
    "\n",
    "Topic #7: **[ Skin/Sunscreen ]**\n",
    "\n",
    "skin sensitive sunscreen 8217 sun acid spf moisturizer dead sea free ingredients peel hyaluronic aging\n",
    "\n",
    "Topic #8: **[ Hair Shampoo ]**\n",
    "\n",
    "shampoo conditioner soap wash clean shower scalp body suave shampoos axe husband men dandruff conditioners\n",
    "\n",
    "Topic #9: **[ Nice Brush ]**\n",
    "\n",
    "great price good brushes one quality well love would buy size really nice get recommend"
   ]
  },
  {
   "cell_type": "markdown",
   "metadata": {},
   "source": [
    "## `Term frequency-inverse document frequency` [ tfidf ]\n",
    "\n",
    "## NMF"
   ]
  },
  {
   "cell_type": "code",
   "execution_count": 240,
   "metadata": {},
   "outputs": [],
   "source": [
    "nmf_tfidf = nmf.fit(tfidf)"
   ]
  },
  {
   "cell_type": "code",
   "execution_count": 241,
   "metadata": {},
   "outputs": [
    {
     "data": {
      "text/plain": [
       "Counter({5: 51017,\n",
       "         4: 11514,\n",
       "         6: 12770,\n",
       "         2: 14179,\n",
       "         0: 33256,\n",
       "         8: 12309,\n",
       "         9: 10721,\n",
       "         1: 28564,\n",
       "         7: 13721,\n",
       "         3: 10451})"
      ]
     },
     "execution_count": 241,
     "metadata": {},
     "output_type": "execute_result"
    }
   ],
   "source": [
    "nmf_W = nmf_tfidf.transform(tfidf)\n",
    "Counter([np.argmax(i) for i in nmf_W])"
   ]
  },
  {
   "cell_type": "code",
   "execution_count": 242,
   "metadata": {},
   "outputs": [
    {
     "name": "stdout",
     "output_type": "stream",
     "text": [
      "Topic #0:\n",
      "skin face dry use sensitive using cream oily moisturizer oil acne feel lotion feels feeling\n",
      "\n",
      "Topic #1:\n",
      "hair dry use oil curly thick iron fine soft dryer flat conditioner blow long leave\n",
      "\n",
      "Topic #2:\n",
      "color colors pink dark looks red nice light brown pretty beautiful lipstick lips lip shade\n",
      "\n",
      "Topic #3:\n",
      "brush brushes bristles foundation set soft makeup quality powder use blush sigma perfect good shed\n",
      "\n",
      "Topic #4:\n",
      "great price works smells buy well quality colors good easy really recommend deal looks value\n",
      "\n",
      "Topic #5:\n",
      "like one really good get use time would little well much long used smell 34\n",
      "\n",
      "Topic #6:\n",
      "product recommend would using good products used results highly see use definitely purchase anyone difference\n",
      "\n",
      "Topic #7:\n",
      "nail polish nails coat top art gel polishes base designs colors coats use opi manicure\n",
      "\n",
      "Topic #8:\n",
      "love colors makes smell absolutely soft amazing stuff perfect buy recommend smells use way one\n",
      "\n",
      "Topic #9:\n",
      "shampoo conditioner scent clean smell scalp nice smells shampoos dandruff hair like leaves soft feeling\n",
      "\n",
      "\n"
     ]
    }
   ],
   "source": [
    "retrieve_top_words(nmf_tfidf, tfidf_feature_names, num_top_words)"
   ]
  },
  {
   "cell_type": "markdown",
   "metadata": {},
   "source": [
    "### NMF / tfidf Topics\n",
    "\n",
    "Topic #0: **[ Skin care ]**\n",
    "\n",
    "skin face dry use sensitive using cream oily moisturizer oil acne feel lotion feels feeling\n",
    "\n",
    "Topic #1: **[ Hair Shampoo/ Styling ]**\n",
    "\n",
    "hair dry use oil curly thick iron fine soft dryer flat conditioner blow long leave\n",
    "\n",
    "Topic #2: **[ Lipstick ]**\n",
    "\n",
    "color colors pink dark looks red nice light brown pretty beautiful lipstick lips lip shade\n",
    "\n",
    "Topic #3: **[ Brushes ]**\n",
    "\n",
    "brush brushes bristles foundation set soft makeup quality powder use blush sigma perfect good shed\n",
    "\n",
    "Topic #4: **[ Positive review ]**\n",
    "\n",
    "great price works smells buy well quality colors good easy really recommend deal looks value\n",
    "\n",
    "Topic #5: **[ ?? ]**\n",
    "\n",
    "like one really good get use time would little well much long used smell 34\n",
    "\n",
    "Topic #6: **[ Brushes ]**\n",
    "\n",
    "product recommend would using good products used results highly see use definitely purchase anyone difference\n",
    "\n",
    "Topic #7: **[ Nail ]**\n",
    "\n",
    "nail polish nails coat top art gel polishes base designs colors coats use opi manicure\n",
    "\n",
    "Topic #8: **[ Positive review ]**\n",
    "\n",
    "love colors makes smell absolutely soft amazing stuff perfect buy recommend smells use way one\n",
    "\n",
    "Topic #9: **[ Shampoo ]**\n",
    "\n",
    "shampoo conditioner scent clean smell scalp nice smells shampoos dandruff hair like leaves soft feeling"
   ]
  },
  {
   "cell_type": "markdown",
   "metadata": {},
   "source": [
    "## Lda"
   ]
  },
  {
   "cell_type": "code",
   "execution_count": 243,
   "metadata": {},
   "outputs": [],
   "source": [
    "lda_tfidf = lda.fit(tfidf)"
   ]
  },
  {
   "cell_type": "code",
   "execution_count": 244,
   "metadata": {},
   "outputs": [
    {
     "data": {
      "text/plain": [
       "Counter({6: 197916,\n",
       "         0: 58,\n",
       "         9: 45,\n",
       "         7: 114,\n",
       "         8: 70,\n",
       "         3: 56,\n",
       "         2: 13,\n",
       "         5: 160,\n",
       "         4: 43,\n",
       "         1: 27})"
      ]
     },
     "execution_count": 244,
     "metadata": {},
     "output_type": "execute_result"
    }
   ],
   "source": [
    "lda_W = lda_tfidf.transform(tfidf)\n",
    "Counter([np.argmax(i) for i in lda_W])"
   ]
  },
  {
   "cell_type": "code",
   "execution_count": 245,
   "metadata": {},
   "outputs": [
    {
     "name": "stdout",
     "output_type": "stream",
     "text": [
      "Topic #0:\n",
      "wigs granddaughter wall temp expressed motion spiked costume 8226 com http www mechanism outfit install\n",
      "\n",
      "Topic #1:\n",
      "palette highlighter wheel clippers clipper dupe coastal evaluation decently friday realy pallette distributes bones bh\n",
      "\n",
      "Topic #2:\n",
      "bows contour receiving smokey fog adhesive adjustable pairs husbands decorate arent turquoise disposables guards josie\n",
      "\n",
      "Topic #3:\n",
      "polish nail nails polishes gelish opi stamp shellac stamper konad essie acetone top cnd chipping\n",
      "\n",
      "Topic #4:\n",
      "tape rhinestones disappoint combing palettes peace ur cheeky crystals holo weighted orchid pockets defiantly leather\n",
      "\n",
      "Topic #5:\n",
      "slides smoky austin se collections musk spouse resealable physicians fantasy texturizing intoxicating sensational de camouflage\n",
      "\n",
      "Topic #6:\n",
      "hair product skin like use great love really good one well would using color used\n",
      "\n",
      "Topic #7:\n",
      "stones flowers ingredients sodium flower caffeine extract toni oxygen ingredient blossom zinc titanium oxide infusing\n",
      "\n",
      "Topic #8:\n",
      "neat organized bling functional lotus organix accessory magnet discs cools managable wire english hrs decorations\n",
      "\n",
      "Topic #9:\n",
      "iron curling flat heat clips straightener heats curl razors curls curler rollers remington temperature hot\n",
      "\n",
      "\n"
     ]
    }
   ],
   "source": [
    "retrieve_top_words(lda_tfidf, tfidf_feature_names, num_top_words)"
   ]
  },
  {
   "cell_type": "markdown",
   "metadata": {},
   "source": [
    "### Lda / tfidf Topics\n",
    "\n",
    "Topic #0: **[ ?? ]**\n",
    "\n",
    "wigs granddaughter wall temp expressed motion spiked costume 8226 com http www mechanism outfit install\n",
    "\n",
    "Topic #1: **[ palette ?? ]**\n",
    "\n",
    "palette highlighter wheel clippers clipper dupe coastal evaluation decently friday realy pallette distributes bones bh\n",
    "\n",
    "Topic #2: **[ ?? ]**\n",
    "\n",
    "bows contour receiving smokey fog adhesive adjustable pairs husbands decorate arent turquoise disposables guards josie\n",
    "\n",
    "Topic #3: **[ Nail ]**\n",
    "\n",
    "polish nail nails polishes gelish opi stamp shellac stamper konad essie acetone top cnd chipping\n",
    "\n",
    "Topic #4: **[ ?? ]**\n",
    "\n",
    "tape rhinestones disappoint combing palettes peace ur cheeky crystals holo weighted orchid pockets defiantly leather\n",
    "\n",
    "Topic #5: **[ Positiove Review ]**\n",
    "\n",
    "slides smoky austin se collections musk spouse resealable physicians fantasy texturizing intoxicating sensational de camouflage\n",
    "\n",
    "Topic #6: **[ Positive review ]**\n",
    "\n",
    "hair product skin like use great love really good one well would using color used\n",
    "\n",
    "Topic #7: **[ Powder?? ]**\n",
    "\n",
    "stones flowers ingredients sodium flower caffeine extract toni oxygen ingredient blossom zinc titanium oxide infusing\n",
    "\n",
    "Topic #8: **[ Decor ]**\n",
    "\n",
    "neat organized bling functional lotus organix accessory magnet discs cools managable wire english hrs decorations\n",
    "\n",
    "Topic #9: **[ Hair Styling ]**\n",
    "\n",
    "iron curling flat heat clips straightener heats curl razors curls curler rollers remington temperature hot"
   ]
  },
  {
   "cell_type": "markdown",
   "metadata": {},
   "source": [
    "### Summary:\n",
    "\n",
    "* Both **NMF with tf and tfidf** were about the same and performed quite well.\n",
    "* **Lda with tf** was the best. It had a lot of meaningful and unquie associations \n",
    "\n",
    "* **Lda with tfidf** primarily consisted of unassociated words. However - it did accuractely asscoiate a brand with product --> remington for hair styling"
   ]
  },
  {
   "cell_type": "markdown",
   "metadata": {},
   "source": [
    "### Further Application/Productization:\n",
    "* `Recommendation Engine: Collaborative filtering & Factorization Machine`\n",
    "* Scraping `Nykaa` and/or other beauty ecommerce sites in order to build a better, more robust `Recommendation Engine`  -- to reach the goal of a **Recommendation Engine Chatbot for Beauty Products** (for say Facebook or Slack)"
   ]
  }
 ],
 "metadata": {
  "anaconda-cloud": {},
  "kernelspec": {
   "display_name": "Python 3",
   "language": "python",
   "name": "python3"
  },
  "language_info": {
   "codemirror_mode": {
    "name": "ipython",
    "version": 3
   },
   "file_extension": ".py",
   "mimetype": "text/x-python",
   "name": "python",
   "nbconvert_exporter": "python",
   "pygments_lexer": "ipython3",
   "version": "3.8.5"
  }
 },
 "nbformat": 4,
 "nbformat_minor": 1
}
